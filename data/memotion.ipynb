{
 "cells": [
  {
   "attachments": {},
   "cell_type": "markdown",
   "metadata": {},
   "source": [
    "# Memotion"
   ]
  },
  {
   "attachments": {},
   "cell_type": "markdown",
   "metadata": {},
   "source": [
    "In this notebook, the Memotion dataset will be loaded and be separated in to test, train, and validation set. The Memotion dataset was recently released as part of the\n",
    "SemEval-2020 shared task on ”Memotion Analysis”. The dataset contains 7000 memes, which is enough for our study."
   ]
  },
  {
   "attachments": {},
   "cell_type": "markdown",
   "metadata": {},
   "source": [
    "## Setup"
   ]
  },
  {
   "cell_type": "code",
   "execution_count": 2,
   "metadata": {},
   "outputs": [],
   "source": [
    "import pandas as pd\n",
    "import numpy as np\n",
    "from sklearn.model_selection import train_test_split\n",
    "from transformers import CLIPModel\n",
    "import torch\n",
    "import clip\n",
    "from PIL import Image\n",
    "import os"
   ]
  },
  {
   "attachments": {},
   "cell_type": "markdown",
   "metadata": {},
   "source": [
    "If the error \"ImportError: cannot import name 'is_directory' from 'PIL._util'\" occurs, please refer to the following link to downgrade your pillow:\n",
    "https://www.datasciencelearner.com/importerror-cannot-import-name-pillow-version-from-pil-solved/"
   ]
  },
  {
   "attachments": {},
   "cell_type": "markdown",
   "metadata": {},
   "source": [
    "## Load the dataset, and have a look at the data"
   ]
  },
  {
   "cell_type": "code",
   "execution_count": 8,
   "metadata": {},
   "outputs": [
    {
     "data": {
      "text/html": [
       "<div>\n",
       "<style scoped>\n",
       "    .dataframe tbody tr th:only-of-type {\n",
       "        vertical-align: middle;\n",
       "    }\n",
       "\n",
       "    .dataframe tbody tr th {\n",
       "        vertical-align: top;\n",
       "    }\n",
       "\n",
       "    .dataframe thead th {\n",
       "        text-align: right;\n",
       "    }\n",
       "</style>\n",
       "<table border=\"1\" class=\"dataframe\">\n",
       "  <thead>\n",
       "    <tr style=\"text-align: right;\">\n",
       "      <th></th>\n",
       "      <th>image_name</th>\n",
       "      <th>text_ocr</th>\n",
       "      <th>text_corrected</th>\n",
       "      <th>humour</th>\n",
       "      <th>sarcasm</th>\n",
       "      <th>offensive</th>\n",
       "      <th>motivational</th>\n",
       "      <th>overall_sentiment</th>\n",
       "    </tr>\n",
       "  </thead>\n",
       "  <tbody>\n",
       "    <tr>\n",
       "      <th>0</th>\n",
       "      <td>image_1.jpg</td>\n",
       "      <td>LOOK THERE MY FRIEND LIGHTYEAR NOW ALL SOHALIK...</td>\n",
       "      <td>LOOK THERE MY FRIEND LIGHTYEAR NOW ALL SOHALIK...</td>\n",
       "      <td>hilarious</td>\n",
       "      <td>general</td>\n",
       "      <td>not_offensive</td>\n",
       "      <td>not_motivational</td>\n",
       "      <td>very_positive</td>\n",
       "    </tr>\n",
       "    <tr>\n",
       "      <th>1</th>\n",
       "      <td>image_2.jpeg</td>\n",
       "      <td>The best of #10 YearChallenge! Completed in le...</td>\n",
       "      <td>The best of #10 YearChallenge! Completed in le...</td>\n",
       "      <td>not_funny</td>\n",
       "      <td>general</td>\n",
       "      <td>not_offensive</td>\n",
       "      <td>motivational</td>\n",
       "      <td>very_positive</td>\n",
       "    </tr>\n",
       "    <tr>\n",
       "      <th>2</th>\n",
       "      <td>image_3.JPG</td>\n",
       "      <td>Sam Thorne @Strippin ( Follow Follow Saw every...</td>\n",
       "      <td>Sam Thorne @Strippin ( Follow Follow Saw every...</td>\n",
       "      <td>very_funny</td>\n",
       "      <td>not_sarcastic</td>\n",
       "      <td>not_offensive</td>\n",
       "      <td>not_motivational</td>\n",
       "      <td>positive</td>\n",
       "    </tr>\n",
       "    <tr>\n",
       "      <th>3</th>\n",
       "      <td>image_4.png</td>\n",
       "      <td>10 Year Challenge - Sweet Dee Edition</td>\n",
       "      <td>10 Year Challenge - Sweet Dee Edition</td>\n",
       "      <td>very_funny</td>\n",
       "      <td>twisted_meaning</td>\n",
       "      <td>very_offensive</td>\n",
       "      <td>motivational</td>\n",
       "      <td>positive</td>\n",
       "    </tr>\n",
       "    <tr>\n",
       "      <th>4</th>\n",
       "      <td>image_5.png</td>\n",
       "      <td>10 YEAR CHALLENGE WITH NO FILTER 47 Hilarious ...</td>\n",
       "      <td>10 YEAR CHALLENGE WITH NO FILTER 47 Hilarious ...</td>\n",
       "      <td>hilarious</td>\n",
       "      <td>very_twisted</td>\n",
       "      <td>very_offensive</td>\n",
       "      <td>not_motivational</td>\n",
       "      <td>neutral</td>\n",
       "    </tr>\n",
       "  </tbody>\n",
       "</table>\n",
       "</div>"
      ],
      "text/plain": [
       "     image_name                                           text_ocr  \\\n",
       "0   image_1.jpg  LOOK THERE MY FRIEND LIGHTYEAR NOW ALL SOHALIK...   \n",
       "1  image_2.jpeg  The best of #10 YearChallenge! Completed in le...   \n",
       "2   image_3.JPG  Sam Thorne @Strippin ( Follow Follow Saw every...   \n",
       "3   image_4.png              10 Year Challenge - Sweet Dee Edition   \n",
       "4   image_5.png  10 YEAR CHALLENGE WITH NO FILTER 47 Hilarious ...   \n",
       "\n",
       "                                      text_corrected      humour  \\\n",
       "0  LOOK THERE MY FRIEND LIGHTYEAR NOW ALL SOHALIK...   hilarious   \n",
       "1  The best of #10 YearChallenge! Completed in le...   not_funny   \n",
       "2  Sam Thorne @Strippin ( Follow Follow Saw every...  very_funny   \n",
       "3              10 Year Challenge - Sweet Dee Edition  very_funny   \n",
       "4  10 YEAR CHALLENGE WITH NO FILTER 47 Hilarious ...   hilarious   \n",
       "\n",
       "           sarcasm       offensive      motivational overall_sentiment  \n",
       "0          general   not_offensive  not_motivational     very_positive  \n",
       "1          general   not_offensive      motivational     very_positive  \n",
       "2    not_sarcastic   not_offensive  not_motivational          positive  \n",
       "3  twisted_meaning  very_offensive      motivational          positive  \n",
       "4     very_twisted  very_offensive  not_motivational           neutral  "
      ]
     },
     "execution_count": 8,
     "metadata": {},
     "output_type": "execute_result"
    }
   ],
   "source": [
    "# load labels_pd_pickle\n",
    "labels_df_pickle = pd.read_pickle('labels_pd_pickle')\n",
    "# show first 5 rows\n",
    "labels_df_pickle.head()"
   ]
  },
  {
   "attachments": {},
   "cell_type": "markdown",
   "metadata": {},
   "source": [
    "## Encode the images"
   ]
  },
  {
   "attachments": {},
   "cell_type": "markdown",
   "metadata": {},
   "source": [
    "Use CLIP to encode the images. CLIP Image Encoder is a transformer-based model that is optimized for image-text retrieval tasks. It is trained on a variety of image-text pairs, and is able to encode images into a vector representation. The vector representation can then be used to compute the similarity between images."
   ]
  },
  {
   "cell_type": "code",
   "execution_count": 4,
   "metadata": {},
   "outputs": [
    {
     "name": "stdout",
     "output_type": "stream",
     "text": [
      "Error: image file is truncated, skipping file: image_5119.png\n"
     ]
    },
    {
     "name": "stderr",
     "output_type": "stream",
     "text": [
      "c:\\Users\\86177\\anaconda3\\lib\\site-packages\\PIL\\TiffImagePlugin.py:802: UserWarning: Corrupt EXIF data.  Expecting to read 2 bytes but only got 0. \n",
      "  warnings.warn(str(msg))\n",
      "c:\\Users\\86177\\anaconda3\\lib\\site-packages\\PIL\\Image.py:988: UserWarning: Palette images with Transparency expressed in bytes should be converted to RGBA images\n",
      "  warnings.warn(\n"
     ]
    }
   ],
   "source": [
    "# Load the CLIP model and preprocessing function\n",
    "device = \"cuda\" if torch.cuda.is_available() else \"cpu\"\n",
    "model, preprocess = clip.load(\"ViT-B/32\", device=device)\n",
    "\n",
    "# Load images and preprocess them for input to the model, store in a list\n",
    "images = []\n",
    "images_embeddings = []\n",
    "# load all images in the directory\n",
    "# set the path to the directory that contains the images\n",
    "path = \"./images\"\n",
    "# iterate through all the files in the directory\n",
    "for filename in os.listdir(path):\n",
    "    try:\n",
    "        # check if the file is an image\n",
    "        if filename.endswith(\".jpg\") or filename.endswith(\".png\"):\n",
    "            # open the image using PIL\n",
    "            img = Image.open(os.path.join(path, filename))\n",
    "            # preprocess the image\n",
    "            img = preprocess(img).unsqueeze(0).to(device)\n",
    "            # append the image to the list\n",
    "            images.append(img)\n",
    "    except IOError:\n",
    "        print(\"Error: image file is truncated, skipping file:\", filename)"
   ]
  },
  {
   "cell_type": "code",
   "execution_count": 5,
   "metadata": {},
   "outputs": [
    {
     "name": "stdout",
     "output_type": "stream",
     "text": [
      "tensor([[-4.4058e-01,  1.6021e-01, -8.1135e-01, -2.1535e-01, -4.1511e-01,\n",
      "         -4.0899e-01, -1.8673e-01,  1.8744e-01,  1.8483e-01, -2.4182e-01,\n",
      "          3.6646e-01,  2.7902e-01,  2.7146e-01, -1.0643e-01,  5.6995e-01,\n",
      "          2.4080e-01,  2.3865e-01, -4.7276e-01,  8.7647e-02, -3.9217e-02,\n",
      "          2.3974e-01, -9.7120e-02, -4.1330e-01, -2.7713e-01, -5.1899e-01,\n",
      "          6.3505e-01, -4.0892e-01,  7.7369e-01,  3.6714e-01,  2.2544e-01,\n",
      "         -3.1904e-01, -2.6136e-01, -1.4715e-01, -4.4940e-01, -2.8196e-01,\n",
      "          2.8456e-01, -1.6911e-01, -4.2822e-01, -2.5313e-01, -8.4190e-01,\n",
      "         -4.1998e-01,  3.3975e-02, -3.8952e-01,  2.4518e-01,  1.0283e-01,\n",
      "          1.5419e+00,  4.1722e-02, -1.5198e-01,  6.3928e-01,  7.1754e-02,\n",
      "         -5.8767e-01,  7.2152e-01,  4.0960e-01, -6.6864e-02, -7.4227e-01,\n",
      "          1.4375e-01,  5.2660e-01,  2.2265e-01,  1.7411e-01, -1.9453e-01,\n",
      "          1.8527e-02,  2.9663e-01, -1.4555e-01, -5.8480e-02,  3.3619e-01,\n",
      "          2.4914e-02,  6.6902e-02,  6.3767e-01, -5.6194e-01,  3.8498e-01,\n",
      "          1.3037e-02,  2.7560e-01,  3.9574e-01, -1.5439e-01, -3.0926e-01,\n",
      "         -9.6831e-02,  1.5332e-01,  2.2537e-01, -5.7565e-02,  3.9963e-01,\n",
      "          1.1406e-01, -4.2424e-01,  2.1736e-01, -1.6471e-01,  2.9034e-01,\n",
      "          1.3742e-02, -8.8201e-01, -1.9164e-01,  1.2656e-01,  2.9918e-02,\n",
      "          2.8922e-02, -7.4826e-02, -2.4482e+00,  3.6852e-01, -1.6413e-01,\n",
      "          5.4747e-01, -2.8693e-02, -3.5909e-01, -3.9014e-02,  2.7169e-01,\n",
      "          5.5537e-01, -2.3848e-01,  8.0607e-01, -3.5875e-01, -7.3939e-01,\n",
      "         -3.1033e-01, -5.8307e-01,  2.4270e-01, -9.8262e-02,  6.1632e-02,\n",
      "         -1.5532e-01,  4.6246e-01, -4.2882e-02, -5.5892e-01, -4.7217e-01,\n",
      "          1.7889e-01, -4.2756e-02, -3.2821e-01, -4.3283e-02, -2.4681e-01,\n",
      "          4.4300e-01,  7.7870e-01, -5.6146e-01, -3.0140e-01,  5.4423e-01,\n",
      "         -4.1224e-01,  1.3942e-01,  5.0166e-01,  9.9011e-02,  1.0228e-02,\n",
      "          3.9005e-01,  2.4111e-01, -1.9280e-01,  7.9460e-01, -3.1828e-01,\n",
      "          6.1472e-01,  2.1873e-01, -2.5702e-01, -3.0201e-01,  1.5986e-01,\n",
      "          6.0124e-02, -4.2811e-02,  7.5399e-02,  1.1185e-01,  1.3196e-01,\n",
      "         -5.3480e-01, -2.5290e-01,  2.4754e-03,  4.1803e-01, -1.9692e-01,\n",
      "         -3.1016e-01, -6.6210e-02,  3.5136e-01,  2.4743e-01, -2.8107e-01,\n",
      "         -2.6354e-01,  4.5524e-01,  2.5593e-01, -2.3005e-01,  4.4371e-01,\n",
      "          5.2556e-01, -5.7200e-01, -3.2742e-02,  3.8264e-01,  1.0456e-01,\n",
      "         -4.5262e-01,  1.1554e-01, -7.1048e-02, -1.7438e-01, -5.3799e-01,\n",
      "         -4.7615e-02,  1.7424e-01, -3.5641e-01, -2.0282e-01, -4.4388e-01,\n",
      "         -3.4212e-01, -5.5977e-01, -9.8477e-02, -3.1866e-01,  1.1615e-01,\n",
      "          2.2235e-01, -1.9761e-01, -3.4759e-01,  1.0321e-01, -3.6392e-01,\n",
      "         -2.9511e-01,  9.9099e-02, -4.8284e-01,  2.0784e-01, -1.1594e-01,\n",
      "          8.8135e-02,  3.3539e-02, -1.6645e-01, -7.9313e-02, -1.9221e-01,\n",
      "         -9.4810e-02, -5.2547e-02, -4.5899e-01, -8.0029e-01,  3.2718e-02,\n",
      "          1.4407e-01,  1.4276e-01, -1.8715e-01, -5.1052e-03,  2.5515e-01,\n",
      "          3.4024e-01,  1.2990e-01, -3.1166e-02, -3.3489e-01, -2.6839e-01,\n",
      "          1.8452e-02,  2.0830e-01,  1.1813e-01, -4.2716e-01, -8.5899e-02,\n",
      "         -1.8607e-01,  5.1024e-02, -5.1760e-01, -8.1022e-02, -1.7114e-01,\n",
      "          2.7682e-01,  5.6246e-01,  2.1798e-01,  1.8577e-02, -5.5105e-01,\n",
      "          1.2384e-01, -4.1963e-01,  4.5297e-01, -3.6127e-01, -1.6759e-01,\n",
      "         -1.8035e-01,  8.2443e-02,  2.6024e-01,  2.4862e-01, -2.4088e-01,\n",
      "          3.1278e-02,  7.1215e-01, -2.0436e-01,  2.7315e-03, -1.0842e-01,\n",
      "          3.1099e-02,  4.1695e-01, -1.1758e-01,  4.4953e-01,  2.9924e-01,\n",
      "          6.5998e-01,  1.4651e-01,  1.3568e-02,  1.4423e-01, -1.6456e-02,\n",
      "         -5.7335e-01,  2.1433e-01,  2.9917e-01,  4.5013e-01,  1.4570e-02,\n",
      "          4.5925e-01,  1.9600e-02, -2.1864e-01,  5.6171e-02,  1.8959e-01,\n",
      "         -3.3175e-02,  1.7814e-01, -2.3017e-01,  1.2375e+00, -4.8179e-01,\n",
      "          5.2004e-02,  2.3078e-01,  2.5362e-01, -1.1588e-01,  2.7729e-01,\n",
      "          1.0686e-01, -2.0583e-01, -1.9487e-01, -4.3348e-01, -6.9662e-01,\n",
      "          2.1945e-01,  7.9728e-02, -4.3600e-01, -2.7472e-01, -1.3659e-01,\n",
      "         -5.6718e-01,  3.9998e-01, -1.7234e-01, -4.0807e-01,  4.4028e-01,\n",
      "          2.1712e-02,  3.5057e-01, -2.9649e-02, -2.8108e-01,  8.9190e-03,\n",
      "          6.4647e-02, -1.5607e-01, -2.1467e-01,  1.3000e-02, -4.9786e-01,\n",
      "          7.8325e-02, -3.0054e-02,  4.3107e-01,  2.6709e-01,  5.0252e-02,\n",
      "          1.8761e-02,  4.8010e-02,  1.0678e-01, -7.1624e-02,  1.3277e-01,\n",
      "          5.2362e-01,  4.4595e-02,  6.0037e-01,  4.4239e-01, -1.1859e-01,\n",
      "         -1.2155e-01,  7.3037e-01,  7.9319e-01,  7.7749e-01, -2.8783e-01,\n",
      "         -1.7176e-01, -7.3986e-02,  7.7119e-02, -3.5670e-01,  2.1969e-01,\n",
      "         -2.0871e-01,  4.0215e-02,  2.0778e-01,  1.7296e-01, -3.3369e-01,\n",
      "          8.1536e-01, -9.5888e-02, -8.5628e-02, -4.0744e-01, -6.3829e-01,\n",
      "          1.1752e-01,  4.3489e-02,  2.5297e-01, -1.9008e-01,  2.0758e-01,\n",
      "          2.8496e-01, -1.0842e-01,  1.1516e-01, -9.7289e-02, -6.7576e-02,\n",
      "          1.3184e-01,  3.2846e-02, -3.6242e-01,  3.8069e-01, -3.1579e-01,\n",
      "          8.3218e-02, -3.9989e-01, -2.0996e-02, -2.6065e-02,  2.1884e-02,\n",
      "          1.2844e-01,  1.4220e-01, -6.7513e-02, -2.7514e-01, -3.7265e-01,\n",
      "          1.1247e-01, -5.6243e-02,  3.1272e-01, -2.4578e-01,  3.3151e-02,\n",
      "          4.9507e-01, -4.4590e-02, -5.0385e-01,  7.4354e-01, -2.2812e-01,\n",
      "         -2.4682e-01, -3.1348e-01,  1.6465e-01,  7.3441e-02, -7.6628e-02,\n",
      "          1.0970e-01,  2.3438e-01, -2.7450e-02, -2.3870e-01, -4.8402e-01,\n",
      "          9.7716e-03,  2.9830e-01, -2.4480e-03, -2.1564e-01, -1.2356e-01,\n",
      "          2.4528e-01, -4.8715e-01, -1.6669e-01, -2.7125e-01, -9.0742e-02,\n",
      "          6.3020e-01,  2.2027e-01,  8.0720e-01, -2.1545e-01,  5.6803e-02,\n",
      "         -3.9727e-01, -1.2531e-01,  5.3354e-01, -2.1165e-01, -1.8695e-01,\n",
      "          2.9100e-01,  3.2902e-01, -4.6076e-02,  4.9687e-01, -8.2362e-02,\n",
      "         -7.8212e-02,  1.0767e-02, -3.1543e-01,  5.7521e-01, -2.9766e-01,\n",
      "         -3.6359e-01, -3.5273e-03, -6.6983e-02,  5.1145e-01,  3.0227e-01,\n",
      "          4.2649e-01, -1.1917e-01, -6.3812e-02, -2.5382e-01, -9.7229e-02,\n",
      "         -2.7089e-01, -1.3793e-01, -3.6863e-02, -4.0426e-01, -2.9130e-01,\n",
      "         -6.4403e-02,  4.5573e-02, -3.4368e-01,  3.2962e-01, -2.8106e-01,\n",
      "         -3.0212e-01, -1.7976e-01, -3.1648e-01, -8.5178e-01, -1.5097e-01,\n",
      "         -2.9969e-01, -1.1707e-02, -1.5876e-01,  2.0868e-01, -1.9146e-01,\n",
      "         -9.8702e-02,  3.1023e-02,  3.4229e-01,  5.8716e-02,  5.0567e-01,\n",
      "          5.7611e-01,  2.3059e-01,  7.8173e-01, -2.0808e-02, -2.8619e-01,\n",
      "         -4.2655e-01,  4.4531e-01,  3.9853e-01,  2.8653e-02,  8.8013e-01,\n",
      "          6.3669e-02,  1.8523e-02,  3.8952e-02, -8.9060e-01,  1.9421e-01,\n",
      "          2.7490e-01, -1.2186e-01,  5.1706e-02, -3.9418e-01, -1.8545e-01,\n",
      "         -2.1902e-01, -9.9782e-02,  2.0266e-01,  4.4011e-02, -4.0099e-01,\n",
      "         -4.9484e-01, -1.5056e-01, -6.2039e-01, -2.6147e-02,  4.2668e-01,\n",
      "         -8.6415e-02,  4.5659e-01, -5.5146e-02, -3.0009e-01,  3.6748e-02,\n",
      "          1.9343e-01,  2.1637e-01, -1.6145e-01, -4.0446e-01, -5.8197e-03,\n",
      "         -3.2259e-01, -3.5442e-01, -2.1280e-01, -3.1748e-02,  1.8911e-01,\n",
      "          1.9191e-01, -4.8934e-01, -4.2869e-02, -5.4373e-01,  2.4777e-01,\n",
      "         -7.5206e-02,  2.7084e-01,  1.1654e-01, -3.8057e-01, -1.6565e-01,\n",
      "          6.7626e-01,  1.1266e-01,  3.1761e-01,  4.3584e-01,  9.8205e-02,\n",
      "          1.2344e-01,  2.4282e-01, -1.9420e-01, -3.7643e-01,  6.3195e-01,\n",
      "          3.8524e-02,  4.1580e-02, -5.3949e-01, -1.5064e-01,  2.3090e-01,\n",
      "         -3.5015e-01,  2.2633e-01]], grad_fn=<MmBackward0>)\n"
     ]
    }
   ],
   "source": [
    "# Use the model to encode the image\n",
    "#for image in images:\n",
    "#    image_features = model.encode_image(image)\n",
    "#    images_embeddings.append(image_features)\n",
    "images_feature = model.encode_image(images[0])\n",
    "print(images_feature)"
   ]
  }
 ],
 "metadata": {
  "kernelspec": {
   "display_name": "eecs487",
   "language": "python",
   "name": "python3"
  },
  "language_info": {
   "codemirror_mode": {
    "name": "ipython",
    "version": 3
   },
   "file_extension": ".py",
   "mimetype": "text/x-python",
   "name": "python",
   "nbconvert_exporter": "python",
   "pygments_lexer": "ipython3",
   "version": "3.8.8"
  },
  "orig_nbformat": 4
 },
 "nbformat": 4,
 "nbformat_minor": 2
}
