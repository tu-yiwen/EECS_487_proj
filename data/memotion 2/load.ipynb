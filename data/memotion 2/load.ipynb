{
 "cells": [
  {
   "attachments": {},
   "cell_type": "markdown",
   "metadata": {},
   "source": [
    "# Memotion 2.0 Dataset"
   ]
  },
  {
   "attachments": {},
   "cell_type": "markdown",
   "metadata": {},
   "source": [
    "In this notebook, the Memotion dataset will be loaded, including test, train, and validation set. The Memotion 2.0 dataset doesn't contain Hindi Language, so it's perfectly suitable for the task of meme classification in English."
   ]
  },
  {
   "attachments": {},
   "cell_type": "markdown",
   "metadata": {},
   "source": [
    "## Setup"
   ]
  },
  {
   "cell_type": "code",
   "execution_count": 19,
   "metadata": {},
   "outputs": [],
   "source": [
    "import pandas as pd\n",
    "import numpy as np\n",
    "from sklearn.model_selection import train_test_split\n"
   ]
  },
  {
   "attachments": {},
   "cell_type": "markdown",
   "metadata": {},
   "source": [
    "If the error \"ImportError: cannot import name 'is_directory' from 'PIL._util'\" occurs, please refer to the following link to downgrade your pillow:\n",
    "https://www.datasciencelearner.com/importerror-cannot-import-name-pillow-version-from-pil-solved/"
   ]
  },
  {
   "attachments": {},
   "cell_type": "markdown",
   "metadata": {},
   "source": [
    "## Load the dataset, and have a look at the data"
   ]
  },
  {
   "cell_type": "code",
   "execution_count": 20,
   "metadata": {},
   "outputs": [],
   "source": [
    "# load data\n",
    "#df_train = pd.read_csv('Memotion2/memotion_train.csv')\n",
    "#df_val = pd.read_csv('Memotion2/memotion_val.csv')\n",
    "#df_test = pd.read_csv('memotion2_test/memotion_test.csv')\n",
    "# store data\n",
    "#df_train.to_pickle('df_train_pickle')\n",
    "#df_val.to_pickle('df_val_pickle')\n",
    "#df_test.to_pickle('df_test_pickle')"
   ]
  },
  {
   "cell_type": "code",
   "execution_count": 21,
   "metadata": {},
   "outputs": [
    {
     "name": "stdout",
     "output_type": "stream",
     "text": [
      "   Id                                          Image url  \\\n",
      "0   1  https://preview.redd.it/9jkzlvt8p4q31.jpg?widt...   \n",
      "1   2  https://i.pinimg.com/originals/fd/c8/e2/fdc8e2...   \n",
      "2   3  https://i.pinimg.com/originals/85/10/13/851013...   \n",
      "3   4  https://i.imgur.com/07ZcrjZ_d.webp?maxwidth=52...   \n",
      "4   5  https://i.imgur.com/MGddJxr_d.jpg?maxwidth=520...   \n",
      "\n",
      "                                            ocr_text      humour  \\\n",
      "0    enters into a wrong class teacher and students        funny   \n",
      "1  dj if you single make some nooooissssseeee my ...       funny   \n",
      "2                       everyone sit like a lady me        funny   \n",
      "3  when youre about to watch a 2 hour educational...       funny   \n",
      "4   government work from home olympic swimmers nsdf   very_funny   \n",
      "\n",
      "          sarcastic      offensive      motivational overall_sentiment  \\\n",
      "0     not_sarcastic         slight  not_motivational           neutral   \n",
      "1     not_sarcastic  not_offensive  not_motivational           neutral   \n",
      "2     not_sarcastic         slight  not_motivational           neutral   \n",
      "3     not_sarcastic  not_offensive  not_motivational           neutral   \n",
      "4  little_sarcastic  not_offensive  not_motivational           neutral   \n",
      "\n",
      "  classification_based_on  \n",
      "0          image_and_text  \n",
      "1          image_and_text  \n",
      "2          image_and_text  \n",
      "3          image_and_text  \n",
      "4          image_and_text  \n"
     ]
    }
   ],
   "source": [
    "# load existing data\n",
    "df_train = pd.read_pickle('df_train_pickle')\n",
    "df_val = pd.read_pickle('df_val_pickle')\n",
    "df_test = pd.read_pickle('df_test_pickle')\n",
    "# take a look at the data\n",
    "print(df_train.head())"
   ]
  },
  {
   "cell_type": "code",
   "execution_count": 22,
   "metadata": {},
   "outputs": [],
   "source": [
    "# turn the string labels into numerical labels\n",
    "# can choose between binary and multi\n",
    "#from format import str2label\n",
    "#str2label(df_train, \"binary\", \"train\")\n",
    "#str2label(df_val, \"binary\", \"val\")\n"
   ]
  },
  {
   "cell_type": "code",
   "execution_count": 23,
   "metadata": {},
   "outputs": [
    {
     "name": "stdout",
     "output_type": "stream",
     "text": [
      "   Id                                          Image url  \\\n",
      "0   1  https://preview.redd.it/9jkzlvt8p4q31.jpg?widt...   \n",
      "1   2  https://i.pinimg.com/originals/fd/c8/e2/fdc8e2...   \n",
      "2   3  https://i.pinimg.com/originals/85/10/13/851013...   \n",
      "3   4  https://i.imgur.com/07ZcrjZ_d.webp?maxwidth=52...   \n",
      "4   5  https://i.imgur.com/MGddJxr_d.jpg?maxwidth=520...   \n",
      "\n",
      "                                            ocr_text humour sarcastic  \\\n",
      "0    enters into a wrong class teacher and students       1         1   \n",
      "1  dj if you single make some nooooissssseeee my ...      1         1   \n",
      "2                       everyone sit like a lady me       1         1   \n",
      "3  when youre about to watch a 2 hour educational...      1         1   \n",
      "4   government work from home olympic swimmers nsdf       1         1   \n",
      "\n",
      "  offensive motivational overall_sentiment classification_based_on  \n",
      "0         1            1                 2          image_and_text  \n",
      "1         1            1                 2          image_and_text  \n",
      "2         1            1                 2          image_and_text  \n",
      "3         1            1                 2          image_and_text  \n",
      "4         1            1                 2          image_and_text  \n"
     ]
    }
   ],
   "source": [
    "# load the labels\n",
    "df_train_label = pd.read_pickle('train_label')\n",
    "df_val_label = pd.read_pickle('val_label')\n",
    "# take a look at the labels\n",
    "print(df_train_label.head())"
   ]
  }
 ],
 "metadata": {
  "kernelspec": {
   "display_name": "eecs487",
   "language": "python",
   "name": "python3"
  },
  "language_info": {
   "codemirror_mode": {
    "name": "ipython",
    "version": 3
   },
   "file_extension": ".py",
   "mimetype": "text/x-python",
   "name": "python",
   "nbconvert_exporter": "python",
   "pygments_lexer": "ipython3",
   "version": "3.8.8"
  },
  "orig_nbformat": 4
 },
 "nbformat": 4,
 "nbformat_minor": 2
}
