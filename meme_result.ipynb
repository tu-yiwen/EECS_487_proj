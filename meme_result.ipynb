{
  "cells": [
    {
      "cell_type": "markdown",
      "metadata": {
        "id": "l9Wf0sOQT44c"
      },
      "source": [
        "# Meme Humour Classification: Deep-learning-based Multi-modal Fusion with Humor Semantics"
      ]
    },
    {
      "cell_type": "markdown",
      "metadata": {
        "id": "x2Ot5NCHT44g"
      },
      "source": [
        "## 1. import"
      ]
    },
    {
      "cell_type": "code",
      "execution_count": null,
      "metadata": {
        "colab": {
          "base_uri": "https://localhost:8080/"
        },
        "id": "XvL3bxeQqn31",
        "outputId": "514f759f-9e3b-4002-e9a5-285b4700386c"
      },
      "outputs": [
        {
          "output_type": "stream",
          "name": "stdout",
          "text": [
            "Drive already mounted at /content/drive; to attempt to forcibly remount, call drive.mount(\"/content/drive\", force_remount=True).\n"
          ]
        }
      ],
      "source": [
        "from google.colab import drive\n",
        "drive.mount('/content/drive')"
      ]
    },
    {
      "cell_type": "code",
      "execution_count": null,
      "metadata": {
        "colab": {
          "base_uri": "https://localhost:8080/"
        },
        "id": "92PhTET_Unkf",
        "outputId": "536eee38-43a3-460c-bace-b986dc0f900a"
      },
      "outputs": [
        {
          "output_type": "stream",
          "name": "stdout",
          "text": [
            "['__pycache__', '.ipynb_checkpoints', 'df_val_pickle', 'df_test_pickle', 'df_train_pickle', 'image', 'text', 'label', 'test result.xlsx', 'clip']\n"
          ]
        }
      ],
      "source": [
        "import os\n",
        "import sys\n",
        "\n",
        "# TODO: change this to the path to your homework folder\n",
        "GOOGLE_DRIVE_PATH = os.path.join('drive', 'MyDrive','EECS487Project')\n",
        "print(os.listdir(GOOGLE_DRIVE_PATH))\n",
        "\n",
        "os.chdir(GOOGLE_DRIVE_PATH)"
      ]
    },
    {
      "cell_type": "code",
      "execution_count": null,
      "metadata": {
        "colab": {
          "base_uri": "https://localhost:8080/"
        },
        "id": "a-yi0QqkrsbE",
        "outputId": "1cc30185-db04-4640-d83d-1c8c80521ae0"
      },
      "outputs": [
        {
          "output_type": "stream",
          "name": "stdout",
          "text": [
            "Looking in indexes: https://pypi.org/simple, https://us-python.pkg.dev/colab-wheels/public/simple/\n",
            "Requirement already satisfied: transformers in /usr/local/lib/python3.9/dist-packages (4.28.1)\n",
            "Requirement already satisfied: pyyaml>=5.1 in /usr/local/lib/python3.9/dist-packages (from transformers) (6.0)\n",
            "Requirement already satisfied: regex!=2019.12.17 in /usr/local/lib/python3.9/dist-packages (from transformers) (2022.10.31)\n",
            "Requirement already satisfied: tqdm>=4.27 in /usr/local/lib/python3.9/dist-packages (from transformers) (4.65.0)\n",
            "Requirement already satisfied: packaging>=20.0 in /usr/local/lib/python3.9/dist-packages (from transformers) (23.0)\n",
            "Requirement already satisfied: requests in /usr/local/lib/python3.9/dist-packages (from transformers) (2.27.1)\n",
            "Requirement already satisfied: tokenizers!=0.11.3,<0.14,>=0.11.1 in /usr/local/lib/python3.9/dist-packages (from transformers) (0.13.3)\n",
            "Requirement already satisfied: numpy>=1.17 in /usr/local/lib/python3.9/dist-packages (from transformers) (1.22.4)\n",
            "Requirement already satisfied: filelock in /usr/local/lib/python3.9/dist-packages (from transformers) (3.11.0)\n",
            "Requirement already satisfied: huggingface-hub<1.0,>=0.11.0 in /usr/local/lib/python3.9/dist-packages (from transformers) (0.13.4)\n",
            "Requirement already satisfied: typing-extensions>=3.7.4.3 in /usr/local/lib/python3.9/dist-packages (from huggingface-hub<1.0,>=0.11.0->transformers) (4.5.0)\n",
            "Requirement already satisfied: certifi>=2017.4.17 in /usr/local/lib/python3.9/dist-packages (from requests->transformers) (2022.12.7)\n",
            "Requirement already satisfied: charset-normalizer~=2.0.0 in /usr/local/lib/python3.9/dist-packages (from requests->transformers) (2.0.12)\n",
            "Requirement already satisfied: urllib3<1.27,>=1.21.1 in /usr/local/lib/python3.9/dist-packages (from requests->transformers) (1.26.15)\n",
            "Requirement already satisfied: idna<4,>=2.5 in /usr/local/lib/python3.9/dist-packages (from requests->transformers) (3.4)\n"
          ]
        }
      ],
      "source": [
        "!pip install transformers"
      ]
    },
    {
      "cell_type": "code",
      "execution_count": null,
      "metadata": {
        "colab": {
          "base_uri": "https://localhost:8080/"
        },
        "id": "OcdnYBOdT44h",
        "outputId": "102d85ea-73b8-4956-85ba-ad12516f222a"
      },
      "outputs": [
        {
          "output_type": "stream",
          "name": "stderr",
          "text": [
            "Some weights of the model checkpoint at roberta-base were not used when initializing RobertaModel: ['lm_head.dense.bias', 'lm_head.dense.weight', 'lm_head.layer_norm.bias', 'lm_head.layer_norm.weight', 'lm_head.bias', 'lm_head.decoder.weight']\n",
            "- This IS expected if you are initializing RobertaModel from the checkpoint of a model trained on another task or with another architecture (e.g. initializing a BertForSequenceClassification model from a BertForPreTraining model).\n",
            "- This IS NOT expected if you are initializing RobertaModel from the checkpoint of a model that you expect to be exactly identical (initializing a BertForSequenceClassification model from a BertForSequenceClassification model).\n"
          ]
        }
      ],
      "source": [
        "# import packages\n",
        "import pandas as pd\n",
        "import numpy as np\n",
        "from sklearn.model_selection import train_test_split\n",
        "import torch\n",
        "\n",
        "# import directories\n",
        "import image\n",
        "from text import text_embedding"
      ]
    },
    {
      "cell_type": "markdown",
      "metadata": {
        "id": "mk33QfgJT44j"
      },
      "source": [
        "## 2. Load dataset"
      ]
    },
    {
      "cell_type": "code",
      "execution_count": null,
      "metadata": {
        "id": "HQ5GRaKKT44k",
        "colab": {
          "base_uri": "https://localhost:8080/"
        },
        "outputId": "780dd975-408f-41e0-9714-67724edf5112"
      },
      "outputs": [
        {
          "output_type": "execute_result",
          "data": {
            "text/plain": [
              "0          little_sarcastic\n",
              "1          little_sarcastic\n",
              "2             not_sarcastic\n",
              "3            very_sarcastic\n",
              "4             not_sarcastic\n",
              "               ...         \n",
              "1495       little_sarcastic\n",
              "1496       little_sarcastic\n",
              "1497    extremely_sarcastic\n",
              "1498       little_sarcastic\n",
              "1499          not_sarcastic\n",
              "Name: sarcastic, Length: 1500, dtype: object"
            ]
          },
          "metadata": {},
          "execution_count": 5
        }
      ],
      "source": [
        "# load labels_pd_pickle\n",
        "train = pd.read_pickle('df_train_pickle')\n",
        "val = pd.read_pickle('df_val_pickle')\n",
        "test = pd.read_pickle('df_test_pickle')\n",
        "# show first 5 rows\n",
        "val['sarcastic']"
      ]
    },
    {
      "cell_type": "code",
      "source": [
        "def basic_collate_fn_all(batch):\n",
        "    \"\"\"Collate function for basic setting.\"\"\"\n",
        "    # texts\n",
        "    text = torch.stack(tuple(item['text'].to('cuda') for item in batch)).to('cuda')\n",
        "    # image\n",
        "    image = torch.stack(tuple(item['image_embedding'] for item in batch)).to('cuda')\n",
        "    # clip\n",
        "    clip = torch.stack(tuple(item['clip'] for item in batch)).to('cuda')\n",
        "    # labels\n",
        "    labels = [item['rating'][0:4] for item in batch]\n",
        "    return text, image, clip, labels"
      ],
      "metadata": {
        "id": "-dp1PTL2zjSn"
      },
      "execution_count": null,
      "outputs": []
    },
    {
      "cell_type": "code",
      "execution_count": null,
      "metadata": {
        "id": "Uksp3Lk5T44l"
      },
      "outputs": [],
      "source": [
        "train_data = text_embedding.dataloader(train,'image/train_embedding_pretrained.pt','text/train_text_embed_ft', 'clip/clip_embedding_train.pt')\n",
        "val_data = text_embedding.dataloader(val,'image/val_embedding_pretrained.pt','text/val_text_embed_ft', 'clip/clip_embedding_val.pt')"
      ]
    },
    {
      "cell_type": "code",
      "source": [
        "!pip install torchsampler"
      ],
      "metadata": {
        "colab": {
          "base_uri": "https://localhost:8080/"
        },
        "id": "p4t_fQo5gus1",
        "outputId": "a581cc0f-3bdf-4c38-96a0-4950d3da05af"
      },
      "execution_count": null,
      "outputs": [
        {
          "output_type": "stream",
          "name": "stdout",
          "text": [
            "Looking in indexes: https://pypi.org/simple, https://us-python.pkg.dev/colab-wheels/public/simple/\n",
            "Requirement already satisfied: torchsampler in /usr/local/lib/python3.9/dist-packages (0.1.2)\n",
            "Requirement already satisfied: torch>=1.3 in /usr/local/lib/python3.9/dist-packages (from torchsampler) (2.0.0+cu118)\n",
            "Requirement already satisfied: torchvision>=0.5 in /usr/local/lib/python3.9/dist-packages (from torchsampler) (0.15.1+cu118)\n",
            "Requirement already satisfied: pandas in /usr/local/lib/python3.9/dist-packages (from torchsampler) (1.5.3)\n",
            "Requirement already satisfied: triton==2.0.0 in /usr/local/lib/python3.9/dist-packages (from torch>=1.3->torchsampler) (2.0.0)\n",
            "Requirement already satisfied: networkx in /usr/local/lib/python3.9/dist-packages (from torch>=1.3->torchsampler) (3.1)\n",
            "Requirement already satisfied: sympy in /usr/local/lib/python3.9/dist-packages (from torch>=1.3->torchsampler) (1.11.1)\n",
            "Requirement already satisfied: jinja2 in /usr/local/lib/python3.9/dist-packages (from torch>=1.3->torchsampler) (3.1.2)\n",
            "Requirement already satisfied: filelock in /usr/local/lib/python3.9/dist-packages (from torch>=1.3->torchsampler) (3.11.0)\n",
            "Requirement already satisfied: typing-extensions in /usr/local/lib/python3.9/dist-packages (from torch>=1.3->torchsampler) (4.5.0)\n",
            "Requirement already satisfied: cmake in /usr/local/lib/python3.9/dist-packages (from triton==2.0.0->torch>=1.3->torchsampler) (3.25.2)\n",
            "Requirement already satisfied: lit in /usr/local/lib/python3.9/dist-packages (from triton==2.0.0->torch>=1.3->torchsampler) (16.0.1)\n",
            "Requirement already satisfied: requests in /usr/local/lib/python3.9/dist-packages (from torchvision>=0.5->torchsampler) (2.27.1)\n",
            "Requirement already satisfied: pillow!=8.3.*,>=5.3.0 in /usr/local/lib/python3.9/dist-packages (from torchvision>=0.5->torchsampler) (8.4.0)\n",
            "Requirement already satisfied: numpy in /usr/local/lib/python3.9/dist-packages (from torchvision>=0.5->torchsampler) (1.22.4)\n",
            "Requirement already satisfied: pytz>=2020.1 in /usr/local/lib/python3.9/dist-packages (from pandas->torchsampler) (2022.7.1)\n",
            "Requirement already satisfied: python-dateutil>=2.8.1 in /usr/local/lib/python3.9/dist-packages (from pandas->torchsampler) (2.8.2)\n",
            "Requirement already satisfied: six>=1.5 in /usr/local/lib/python3.9/dist-packages (from python-dateutil>=2.8.1->pandas->torchsampler) (1.16.0)\n",
            "Requirement already satisfied: MarkupSafe>=2.0 in /usr/local/lib/python3.9/dist-packages (from jinja2->torch>=1.3->torchsampler) (2.1.2)\n",
            "Requirement already satisfied: idna<4,>=2.5 in /usr/local/lib/python3.9/dist-packages (from requests->torchvision>=0.5->torchsampler) (3.4)\n",
            "Requirement already satisfied: certifi>=2017.4.17 in /usr/local/lib/python3.9/dist-packages (from requests->torchvision>=0.5->torchsampler) (2022.12.7)\n",
            "Requirement already satisfied: urllib3<1.27,>=1.21.1 in /usr/local/lib/python3.9/dist-packages (from requests->torchvision>=0.5->torchsampler) (1.26.15)\n",
            "Requirement already satisfied: charset-normalizer~=2.0.0 in /usr/local/lib/python3.9/dist-packages (from requests->torchvision>=0.5->torchsampler) (2.0.12)\n",
            "Requirement already satisfied: mpmath>=0.19 in /usr/local/lib/python3.9/dist-packages (from sympy->torch>=1.3->torchsampler) (1.3.0)\n"
          ]
        }
      ]
    },
    {
      "cell_type": "code",
      "execution_count": null,
      "metadata": {
        "id": "mvSq7HQZT44l"
      },
      "outputs": [],
      "source": [
        "from torch.utils.data import DataLoader\n",
        "from torchsampler import ImbalancedDatasetSampler\n",
        "train_loader = DataLoader(train_data, batch_size=128, collate_fn=basic_collate_fn_all, shuffle=True)\n",
        "#dev_loader = DataLoader(val_data, batch_size=256, collate_fn=basic_collate_fn_all, shuffle=True)\n",
        "dev_loader = DataLoader(val_data, batch_size=128, collate_fn=basic_collate_fn_all, shuffle=True)\n",
        "#train_loader = DataLoader(train_data, sampler=ImbalancedDatasetSampler(train_data), batch_size=64, collate_fn=basic_collate_fn_all)\n",
        "#print(len(train_loader.dataset))\n"
      ]
    },
    {
      "cell_type": "code",
      "source": [
        "a = torch.load('text/train_text_embed_ft')\n",
        "print(a[0].min())\n"
      ],
      "metadata": {
        "colab": {
          "base_uri": "https://localhost:8080/"
        },
        "id": "scvU8siyCcQr",
        "outputId": "c592ff01-fd88-497c-d956-0fd121675397"
      },
      "execution_count": null,
      "outputs": [
        {
          "output_type": "stream",
          "name": "stdout",
          "text": [
            "tensor(-1.6961, device='cuda:0', grad_fn=<MinBackward1>)\n"
          ]
        }
      ]
    },
    {
      "cell_type": "code",
      "source": [
        "#s={1:0,0:0}\n",
        "#for _, (a,b,c) in enumerate(train_loader_1):\n",
        "#  for item in c:\n",
        "#    if item[3]==0:\n",
        "#      s[0] += 1\n",
        "#    else:\n",
        "#      s[1] += 1\n",
        "#s"
      ],
      "metadata": {
        "id": "IeI6THxS07RR"
      },
      "execution_count": null,
      "outputs": []
    },
    {
      "cell_type": "markdown",
      "source": [
        "# 3. CLIP Embedding"
      ],
      "metadata": {
        "id": "KcvGZGeK2CC6"
      }
    },
    {
      "cell_type": "markdown",
      "metadata": {
        "id": "ctBR7u6GT44p"
      },
      "source": [
        "## 4. Train Model"
      ]
    },
    {
      "cell_type": "code",
      "execution_count": null,
      "metadata": {
        "id": "7GyMSOBNT44q"
      },
      "outputs": [],
      "source": [
        "# transformer for multi-tasking\n",
        "\n",
        "import torch\n",
        "import torch.nn as nn\n",
        "import torch.optim as optim\n",
        "\n",
        "class TransformerClassifier(nn.Module):\n",
        "    def __init__(self, hidden_size, output_size, num_layers):\n",
        "        super(TransformerClassifier, self).__init__()\n",
        "        self.fc1 = nn.Linear(768, 512)\n",
        "        \n",
        "        self.fc2 = nn.Linear(800, 512)\n",
        "\n",
        "        self.fc3 = nn.Linear(1024, 512)\n",
        "        # for attention\n",
        "        self.encoder = nn.TransformerEncoder(\n",
        "            nn.TransformerEncoderLayer(512,nhead=8),4\n",
        "        )\n",
        "        # for concatenation\n",
        "        #self.encoder = nn.TransformerEncoder(\n",
        "        #    nn.TransformerEncoderLayer(1024,nhead=8),2\n",
        "        #)\n",
        "        self.dropout = nn.Dropout(0.3)\n",
        "        self.fc4 = nn.Linear(512, 4)\n",
        "        self.sigmoid = nn.Sigmoid()\n",
        "        self.fc5 = nn.Linear(512, 128)\n",
        "        self.fc6 = nn.Linear(128, 32)\n",
        "        self.fc7 = nn.Linear(128, 32)\n",
        "        self.fc8 = nn.Linear(32, 4)\n",
        "        self.fc9 = nn.Linear(32, 4)\n",
        "        self.fuse = nn.Linear(2,1)\n",
        "        self.tanh = nn.functional.tanh\n",
        "        self.relu = nn.ReLU()\n",
        "\n",
        "        \n",
        "    def forward(self, x,y,z):\n",
        "        # res = self.encoder(y)\n",
        "        \n",
        "        # attention\n",
        "        x = self.fc1(x.squeeze())\n",
        "        y = self.fc2(y)\n",
        "        z = self.fc3(z)\n",
        "        x = self.encoder(torch.stack((x,y,z)))\n",
        "        x = x.max(dim = 0)[0]\n",
        "        #print(\"x: {}\".format(x.size()))\n",
        "        res = self.fc4(x)\n",
        "        res = self.sigmoid(res)\n",
        "        \n",
        "        '''\n",
        "        # only\n",
        "        z = self.fc3(z)\n",
        "        z = self.dropout(z)\n",
        "        res = self.fc4(z)\n",
        "        '''\n",
        "\n",
        "        '''\n",
        "        # linear\n",
        "        x = self.relu(self.fc1(x.squeeze()))\n",
        "        x = self.relu(self.fc4(x))\n",
        "        x = self.relu(self.fc6(x))\n",
        "        x = self.relu(self.fc8(x))\n",
        "\n",
        "        y = self.relu(self.fc2(y))\n",
        "        y = self.relu(self.fc5(y))\n",
        "        y = self.relu(self.fc7(y))\n",
        "        y = self.relu(self.fc9(y))\n",
        "\n",
        "        \n",
        "        res = self.relu(self.fuse(torch.transpose(torch.stack((x, y),dim=2), 0, 1)))\n",
        "        res = torch.transpose(res,0,1)\n",
        "        '''\n",
        "\n",
        "        \n",
        "\n",
        "        '''\n",
        "        # concatenation\n",
        "        x = self.fc1(x.squeeze())\n",
        "        y = self.fc2(y.squeeze())\n",
        "        z = torch.cat((x, y), dim=1)\n",
        "        #print(\"z: {}\".format(z.size()))\n",
        "        z = self.encoder(z.unsqueeze(0)).squeeze(0)\n",
        "        z = self.dropout(z)\n",
        "        #print(\"z: {}\".format(z))\n",
        "        res = self.fc4(z)\n",
        "        '''\n",
        "\n",
        "        #print(\"res: {}\".format(res.size()))\n",
        "        return res\n"
      ]
    },
    {
      "cell_type": "code",
      "execution_count": null,
      "metadata": {
        "id": "VBAkxA8KT44q"
      },
      "outputs": [],
      "source": [
        "def train_tf(model, train_loader, optimizer, epochs=5):\n",
        "    train_loss, train_loss_ind, val_loss, val_loss_ind = [], [], [], []\n",
        "    best_acc = 0\n",
        "    for epoch in range(epochs):\n",
        "        model.train()\n",
        "        for idx, (text, image, clip, target) in enumerate(train_loader):\n",
        "            optimizer.zero_grad()\n",
        "            target = torch.Tensor(target).to('cuda')\n",
        "            output = model(text,image,clip).squeeze()\n",
        "            loss = nn.CrossEntropyLoss()(output,target)\n",
        "            loss.backward()\n",
        "            optimizer.step()\n",
        "        if epoch%1 == 0:\n",
        "          print('Epoch: {} Loss: {}'.format(\n",
        "                    epoch, \n",
        "                    loss.item()))\n",
        "        train_loss_ind.append(epoch)\n",
        "        val_loss_ind.append(epoch)\n",
        "        train_loss.append(loss.item())\n",
        "        model.eval()\n",
        "        acc = torch.Tensor([0,0,0,0]).to('cuda')\n",
        "        with torch.no_grad():\n",
        "          for idx, (text, image, clip, target) in enumerate(dev_loader):\n",
        "              target = torch.Tensor(target).squeeze().to('cuda')\n",
        "              output = model(text,image,clip).squeeze()\n",
        "              loss = nn.CrossEntropyLoss()(output,target)\n",
        "              acc += sum(torch.round(output) == target) /1500\n",
        "        if epoch%1 == 0:\n",
        "          print('Epoch',epoch,'val loss',loss.item(),'val acc',acc)\n",
        "        val_loss.append(loss.item())\n",
        "    stats = {'train_loss': train_loss,\n",
        "          'train_loss_ind': train_loss_ind,\n",
        "          'val_loss': val_loss,\n",
        "          'val_loss_ind': val_loss_ind,\n",
        "          'accuracy': acc,\n",
        "    }\n",
        "    return model,stats"
      ]
    },
    {
      "cell_type": "code",
      "source": [
        "import matplotlib.pyplot as plt\n",
        "from torch import optim"
      ],
      "metadata": {
        "id": "FYmBX5FGxe5O"
      },
      "execution_count": null,
      "outputs": []
    },
    {
      "cell_type": "code",
      "source": [
        "def plot_loss(stats):\n",
        "    \"\"\"Plot training loss and validation loss.\"\"\"\n",
        "    plt.plot(stats['train_loss_ind'], stats['train_loss'], label='Training loss')\n",
        "    plt.plot(stats['val_loss_ind'], stats['val_loss'], label='Validation loss')\n",
        "    plt.legend()\n",
        "    plt.xlabel('Number of iterations')\n",
        "    plt.ylabel('Loss')\n",
        "    plt.show()"
      ],
      "metadata": {
        "id": "8G9vDxt9xc_X"
      },
      "execution_count": null,
      "outputs": []
    },
    {
      "cell_type": "code",
      "source": [
        "import torch\n",
        "import torch.nn as nn\n",
        "\n",
        "# Define some example input and output\n",
        "input = torch.randn(3, 5)  # batch size=3, num_classes=5\n",
        "target = torch.tensor([1, 0, 4])  # true class indices for each sample\n",
        "\n",
        "# Compute the cross entropy loss\n",
        "criterion = nn.CrossEntropyLoss()\n",
        "loss = criterion(input, target)\n",
        "\n",
        "print(loss)\n"
      ],
      "metadata": {
        "id": "EpOo5Y5ed4mv",
        "outputId": "1aea56f0-4514-430e-8c61-543372093b0a",
        "colab": {
          "base_uri": "https://localhost:8080/"
        }
      },
      "execution_count": null,
      "outputs": [
        {
          "output_type": "stream",
          "name": "stdout",
          "text": [
            "tensor(2.2853)\n"
          ]
        }
      ]
    },
    {
      "cell_type": "code",
      "source": [
        "for lr in [0.0001]:\n",
        "  for wd in [0]:\n",
        "    for hd in [256]:\n",
        "      for ly in [2]:\n",
        "        \n",
        "        model_tf = TransformerClassifier(hd,4,ly).to('cuda')\n",
        "        optimizer = optim.Adam(model_tf.parameters(), lr=lr,weight_decay=wd)\n",
        "        print('learning rate: {}, weight decay: {}, hidden layer: {}, layer number: {}'.format(lr, wd, hd, ly))\n",
        "        model, stats = train_tf(model_tf,train_loader,optimizer,50)\n",
        "        plot_loss(stats)"
      ],
      "metadata": {
        "colab": {
          "base_uri": "https://localhost:8080/",
          "height": 1000
        },
        "id": "jDht468TaZeN",
        "outputId": "45761e2e-cf6a-40e6-e73c-ec31468c3e60"
      },
      "execution_count": null,
      "outputs": [
        {
          "output_type": "stream",
          "name": "stdout",
          "text": [
            "learning rate: 0.0001, weight decay: 0, hidden layer: 256, layer number: 2\n",
            "Epoch: 0 Loss: 2.1639626026153564\n",
            "Epoch 0 val loss 1.7095816135406494 val acc tensor([0.8473, 0.4640, 0.7400, 0.9533], device='cuda:0')\n",
            "Epoch: 1 Loss: 1.9151414632797241\n",
            "Epoch 1 val loss 1.922730565071106 val acc tensor([0.8473, 0.4640, 0.7400, 0.9533], device='cuda:0')\n",
            "Epoch: 2 Loss: 1.9631747007369995\n",
            "Epoch 2 val loss 1.9529690742492676 val acc tensor([0.8473, 0.4940, 0.7360, 0.9533], device='cuda:0')\n",
            "Epoch: 3 Loss: 1.9470454454421997\n",
            "Epoch 3 val loss 2.083362340927124 val acc tensor([0.8473, 0.4727, 0.7400, 0.9533], device='cuda:0')\n",
            "Epoch: 4 Loss: 1.6601442098617554\n",
            "Epoch 4 val loss 2.0272274017333984 val acc tensor([0.8473, 0.4987, 0.6527, 0.9533], device='cuda:0')\n",
            "Epoch: 5 Loss: 1.8905390501022339\n",
            "Epoch 5 val loss 1.955194115638733 val acc tensor([0.8473, 0.4833, 0.7280, 0.9533], device='cuda:0')\n",
            "Epoch: 6 Loss: 1.9869860410690308\n",
            "Epoch 6 val loss 1.9273015260696411 val acc tensor([0.8473, 0.5120, 0.6920, 0.9533], device='cuda:0')\n",
            "Epoch: 7 Loss: 1.8269308805465698\n",
            "Epoch 7 val loss 1.6650139093399048 val acc tensor([0.8473, 0.5013, 0.5420, 0.9533], device='cuda:0')\n",
            "Epoch: 8 Loss: 1.848541259765625\n",
            "Epoch 8 val loss 1.8031128644943237 val acc tensor([0.8473, 0.5060, 0.5573, 0.9533], device='cuda:0')\n",
            "Epoch: 9 Loss: 1.7123396396636963\n",
            "Epoch 9 val loss 2.0528557300567627 val acc tensor([0.8473, 0.5047, 0.5707, 0.9533], device='cuda:0')\n",
            "Epoch: 10 Loss: 1.9135704040527344\n",
            "Epoch 10 val loss 1.9846829175949097 val acc tensor([0.8473, 0.5213, 0.5013, 0.9533], device='cuda:0')\n",
            "Epoch: 11 Loss: 1.8437254428863525\n",
            "Epoch 11 val loss 1.7817821502685547 val acc tensor([0.8473, 0.4920, 0.5813, 0.9533], device='cuda:0')\n",
            "Epoch: 12 Loss: 2.0158329010009766\n",
            "Epoch 12 val loss 1.9295601844787598 val acc tensor([0.8473, 0.4960, 0.4867, 0.9533], device='cuda:0')\n",
            "Epoch: 13 Loss: 1.8219317197799683\n",
            "Epoch 13 val loss 1.6589974164962769 val acc tensor([0.8473, 0.5013, 0.5440, 0.9533], device='cuda:0')\n",
            "Epoch: 14 Loss: 1.9421923160552979\n",
            "Epoch 14 val loss 1.9120142459869385 val acc tensor([0.8473, 0.4913, 0.5173, 0.9533], device='cuda:0')\n",
            "Epoch: 15 Loss: 1.8450229167938232\n",
            "Epoch 15 val loss 1.8602557182312012 val acc tensor([0.8473, 0.5060, 0.4833, 0.9533], device='cuda:0')\n",
            "Epoch: 16 Loss: 1.9663748741149902\n",
            "Epoch 16 val loss 2.1364407539367676 val acc tensor([0.8473, 0.5167, 0.6193, 0.9533], device='cuda:0')\n",
            "Epoch: 17 Loss: 1.6256663799285889\n",
            "Epoch 17 val loss 1.8753280639648438 val acc tensor([0.8473, 0.5180, 0.5520, 0.9533], device='cuda:0')\n",
            "Epoch: 18 Loss: 1.5469073057174683\n",
            "Epoch 18 val loss 2.269422769546509 val acc tensor([0.8473, 0.5053, 0.6233, 0.9533], device='cuda:0')\n",
            "Epoch: 19 Loss: 1.6648497581481934\n",
            "Epoch 19 val loss 2.0591647624969482 val acc tensor([0.8473, 0.5200, 0.6613, 0.9533], device='cuda:0')\n",
            "Epoch: 20 Loss: 1.464400291442871\n",
            "Epoch 20 val loss 2.0889899730682373 val acc tensor([0.8473, 0.4840, 0.5900, 0.9533], device='cuda:0')\n",
            "Epoch: 21 Loss: 1.8165217638015747\n",
            "Epoch 21 val loss 1.7945523262023926 val acc tensor([0.8467, 0.5080, 0.5927, 0.9533], device='cuda:0')\n",
            "Epoch: 22 Loss: 1.57033371925354\n",
            "Epoch 22 val loss 2.064899206161499 val acc tensor([0.8467, 0.5260, 0.6347, 0.9533], device='cuda:0')\n",
            "Epoch: 23 Loss: 1.7541831731796265\n",
            "Epoch 23 val loss 1.792950987815857 val acc tensor([0.8473, 0.5107, 0.5720, 0.9533], device='cuda:0')\n",
            "Epoch: 24 Loss: 1.6101691722869873\n",
            "Epoch 24 val loss 2.0503387451171875 val acc tensor([0.8473, 0.5213, 0.5473, 0.9533], device='cuda:0')\n",
            "Epoch: 25 Loss: 1.6283893585205078\n",
            "Epoch 25 val loss 1.862701416015625 val acc tensor([0.8467, 0.5073, 0.6347, 0.9533], device='cuda:0')\n",
            "Epoch: 26 Loss: 1.6967504024505615\n",
            "Epoch 26 val loss 1.895924687385559 val acc tensor([0.8473, 0.5140, 0.5873, 0.9533], device='cuda:0')\n",
            "Epoch: 27 Loss: 1.6178127527236938\n",
            "Epoch 27 val loss 2.0355474948883057 val acc tensor([0.8460, 0.4987, 0.6247, 0.9533], device='cuda:0')\n",
            "Epoch: 28 Loss: 1.6452211141586304\n",
            "Epoch 28 val loss 1.966748833656311 val acc tensor([0.8473, 0.5187, 0.6227, 0.9533], device='cuda:0')\n",
            "Epoch: 29 Loss: 1.8670850992202759\n",
            "Epoch 29 val loss 1.8270580768585205 val acc tensor([0.8460, 0.4947, 0.6347, 0.9533], device='cuda:0')\n",
            "Epoch: 30 Loss: 1.9230985641479492\n",
            "Epoch 30 val loss 1.9621204137802124 val acc tensor([0.8327, 0.5207, 0.5353, 0.9533], device='cuda:0')\n",
            "Epoch: 31 Loss: 1.5347373485565186\n",
            "Epoch 31 val loss 1.919333815574646 val acc tensor([0.8467, 0.5153, 0.6073, 0.9533], device='cuda:0')\n",
            "Epoch: 32 Loss: 1.5884021520614624\n",
            "Epoch 32 val loss 2.3275809288024902 val acc tensor([0.8427, 0.5207, 0.4987, 0.9533], device='cuda:0')\n",
            "Epoch: 33 Loss: 1.7669073343276978\n",
            "Epoch 33 val loss 2.173121213912964 val acc tensor([0.8453, 0.5040, 0.5780, 0.9533], device='cuda:0')\n",
            "Epoch: 34 Loss: 1.5205307006835938\n",
            "Epoch 34 val loss 1.837233543395996 val acc tensor([0.8467, 0.5127, 0.6447, 0.9533], device='cuda:0')\n",
            "Epoch: 35 Loss: 1.602833867073059\n",
            "Epoch 35 val loss 1.7978476285934448 val acc tensor([0.8453, 0.5053, 0.5980, 0.9533], device='cuda:0')\n",
            "Epoch: 36 Loss: 1.7497965097427368\n",
            "Epoch 36 val loss 2.0466322898864746 val acc tensor([0.8467, 0.5227, 0.6953, 0.9533], device='cuda:0')\n",
            "Epoch: 37 Loss: 1.8310877084732056\n",
            "Epoch 37 val loss 1.800495982170105 val acc tensor([0.8473, 0.5127, 0.5920, 0.9533], device='cuda:0')\n",
            "Epoch: 38 Loss: 1.760794758796692\n",
            "Epoch 38 val loss 2.0081980228424072 val acc tensor([0.8447, 0.5127, 0.6093, 0.9533], device='cuda:0')\n",
            "Epoch: 39 Loss: 1.7114102840423584\n",
            "Epoch 39 val loss 1.990639567375183 val acc tensor([0.8433, 0.5127, 0.5987, 0.9533], device='cuda:0')\n",
            "Epoch: 40 Loss: 1.6140130758285522\n",
            "Epoch 40 val loss 1.9264503717422485 val acc tensor([0.8447, 0.5040, 0.6160, 0.9533], device='cuda:0')\n",
            "Epoch: 41 Loss: 1.6591216325759888\n",
            "Epoch 41 val loss 2.0352938175201416 val acc tensor([0.8433, 0.5173, 0.6107, 0.9533], device='cuda:0')\n",
            "Epoch: 42 Loss: 1.6469560861587524\n",
            "Epoch 42 val loss 2.2234342098236084 val acc tensor([0.8447, 0.5080, 0.5453, 0.9533], device='cuda:0')\n",
            "Epoch: 43 Loss: 1.7086375951766968\n",
            "Epoch 43 val loss 2.0257773399353027 val acc tensor([0.8393, 0.5247, 0.5793, 0.9533], device='cuda:0')\n",
            "Epoch: 44 Loss: 1.543092131614685\n",
            "Epoch 44 val loss 2.013413906097412 val acc tensor([0.8453, 0.5180, 0.6387, 0.9533], device='cuda:0')\n",
            "Epoch: 45 Loss: 1.7308696508407593\n",
            "Epoch 45 val loss 2.063058376312256 val acc tensor([0.8460, 0.5133, 0.5367, 0.9533], device='cuda:0')\n",
            "Epoch: 46 Loss: 1.4930163621902466\n",
            "Epoch 46 val loss 2.0425479412078857 val acc tensor([0.8467, 0.5007, 0.6427, 0.9533], device='cuda:0')\n",
            "Epoch: 47 Loss: 1.777788519859314\n",
            "Epoch 47 val loss 2.0290069580078125 val acc tensor([0.8440, 0.5047, 0.6227, 0.9533], device='cuda:0')\n",
            "Epoch: 48 Loss: 1.80697500705719\n",
            "Epoch 48 val loss 1.9850798845291138 val acc tensor([0.8427, 0.4920, 0.6467, 0.9533], device='cuda:0')\n",
            "Epoch: 49 Loss: 1.5644094944000244\n",
            "Epoch 49 val loss 2.077624797821045 val acc tensor([0.8453, 0.5053, 0.5927, 0.9533], device='cuda:0')\n"
          ]
        },
        {
          "output_type": "display_data",
          "data": {
            "text/plain": [
              "<Figure size 640x480 with 1 Axes>"
            ],
            "image/png": "[encoded data removed]"
          },
          "metadata": {}
        }
      ]
    },
    {
      "cell_type": "code",
      "execution_count": null,
      "metadata": {
        "id": "Os0GAfYJd5TK"
      },
      "outputs": [],
      "source": [
        "for lr in [0.001,0.0001]:\n",
        "  for wd in [0,0.00001]:\n",
        "    for hd in [128,256]:\n",
        "      for ly in [2,4]:\n",
        "        model_tf = TransformerClassifier(hd,1,ly).to('cuda')\n",
        "        optimizer = optim.AdamW(model_tf.parameters(), lr=lr,weight_decay=wd)\n",
        "        print(lr,wd,hd,ly)\n",
        "        model, stats = train_tf(model_tf,train_loader,optimizer,50)\n",
        "        plot_loss(stats)"
      ]
    },
    {
      "cell_type": "markdown",
      "metadata": {
        "id": "3vA7r09uT44r"
      },
      "source": [
        "## 5. Test Model"
      ]
    },
    {
      "cell_type": "code",
      "source": [
        "test = pd.read_csv('label/test_gold.csv')\n",
        "test['humour'] = test['humour'].map({'hilarious': 1, 'very_funny':1, 'funny': 1, 'not_funny': 0})\n",
        "test['sarcastic'] = test['sarcastic'].map({'extremely_sarcastic':1, 'very_sarcastic': 1, 'little_sarcastic': 1, 'not_sarcastic': 0})\n",
        "test['offensive'] = test['offensive'].map({'hateful_offensive':1, 'very_offensive': 1, 'slight': 1, 'not_offensive': 0})\n",
        "test['motivational'] = test['motivational'].map({'motivational': 1, 'not_motivational': 0})\n",
        "test['overall_sentiment'] = test['overall_sentiment'].map({'very_positive':1,'positive': 1, 'very_negative':0, 'negative': 0, 'neutral': 1})"
      ],
      "metadata": {
        "id": "_KzMBOUW5Q66"
      },
      "execution_count": null,
      "outputs": []
    },
    {
      "cell_type": "code",
      "source": [
        "image_embedding = torch.load('image/test_embedding_pretrained.pt').squeeze().to('cuda')\n",
        "text_embedding = torch.load('text/test_text_embed_ft')\n",
        "clip_embedding = torch.load('clip/clip_embedding_test.pt').float()\n",
        "text = torch.stack(tuple(item for item in text_embedding)).to('cuda')\n",
        "result = torch.round(model.forward(text,image_embedding, clip_embedding)).to('cuda')\n",
        "print(torch.Tensor(test['humour']))\n",
        "print(result[:, 0])"
      ],
      "metadata": {
        "id": "ToiU69dKLzLX",
        "colab": {
          "base_uri": "https://localhost:8080/"
        },
        "outputId": "823a01a8-06bf-4256-9398-882142749ecd"
      },
      "execution_count": null,
      "outputs": [
        {
          "output_type": "stream",
          "name": "stdout",
          "text": [
            "tensor([1., 3., 1.,  ..., 3., 1., 1.])\n",
            "tensor([2., 2., 2.,  ..., 2., 2., 1.], device='cuda:0',\n",
            "       grad_fn=<SelectBackward0>)\n"
          ]
        }
      ]
    },
    {
      "cell_type": "code",
      "source": [
        "#!pip install torcheval\n",
        "from torcheval.metrics.functional import multiclass_f1_score"
      ],
      "metadata": {
        "colab": {
          "base_uri": "https://localhost:8080/"
        },
        "id": "-Dig8LEpqELw",
        "outputId": "4b20328c-00fa-4304-960b-28372ec09adc"
      },
      "execution_count": null,
      "outputs": [
        {
          "output_type": "execute_result",
          "data": {
            "text/plain": [
              "tensor(0.5900, device='cuda:0')"
            ]
          },
          "metadata": {},
          "execution_count": 22
        }
      ]
    },
    {
      "cell_type": "code",
      "source": [
        "def get_test(model):\n",
        "  image_embedding = torch.load('image/test_embedding_pretrained.pt').squeeze().to('cuda')\n",
        "  text_embedding = torch.load('text/test_text_embed_ft')\n",
        "  text = torch.stack(tuple(item for item in text_embedding)).to('cuda')\n",
        "  result = torch.round(model.forward(text,image_embedding)).to('cuda')\n",
        "  #print(\"Humour test:\",multiclass_f1_score(result[:,0], torch.Tensor(test['humour']).to('cuda'), num_classes=4,average='weighted'))\n",
        "  #print(\"Sarcastic test:\", multiclass_f1_score(result[:,0], torch.Tensor(test['sarcastic']).to('cuda'), num_classes=4,average='weighted'))\n",
        "  #print(\"Offensive test:\", multiclass_f1_score(result[:,2], torch.Tensor(test['offensive']).to('cuda'), num_classes=4,average='weighted'))\n",
        "  #print(\"Moltivational test:\",sum(torch.Tensor(test['motivational']).to('cuda')==result[:,3])/1500)\n",
        "  #print(\"Overall test:\", multiclass_f1_score(result[:,3], torch.Tensor(test['overall_sentiment']).to('cuda'), num_classes=3,average='weighted'))"
      ],
      "metadata": {
        "id": "YHklxZqZ5nkX"
      },
      "execution_count": null,
      "outputs": []
    },
    {
      "cell_type": "code",
      "source": [
        "from sklearn.metrics import f1_score\n",
        "def get_test_2(model):\n",
        "  image_embedding = torch.load('image/test_embedding_pretrained.pt').squeeze().to('cuda')\n",
        "  text_embedding = torch.load('text/test_text_embed_ft')\n",
        "  clip_embedding = torch.load('clip/clip_embedding_test.pt').float()\n",
        "  text = torch.stack(tuple(item for item in text_embedding)).to('cuda')\n",
        "  result = torch.round(model.forward(text,image_embedding, clip_embedding)).cpu().detach().numpy()\n",
        "  print(\"-1: {}\".format(sum(result[:,0]==-1)))\n",
        "  print(\"0: {}\".format(sum(result[:,0]==0)))\n",
        "  print(\"1: {}\".format(sum(result[:,0]==1)))\n",
        "  print(\"2: {}\".format(sum(result[:,0]==2)))\n",
        "  print(\"3: {}\".format(sum(result[:,0]==3)))\n",
        "  print(\"4: {}\".format(sum(result[:,0]==4)))\n",
        "  print(\"5: {}\".format(sum(result[:,0]==5)))\n",
        "  print(\"Humour test:\",f1_score( torch.Tensor(test['humour']).cpu().numpy(),result[:,0], average='weighted'))\n",
        "  print(\"Sarcastic test:\",f1_score(torch.Tensor(test['sarcastic']).cpu().numpy(),result[:,1],  average='weighted'))\n",
        "  print(\"Offensive test:\", f1_score( torch.Tensor(test['offensive']).cpu().numpy(), result[:,2],average='weighted'))\n",
        "  print(\"Moltivational test:\",f1_score( torch.Tensor(test['motivational']).cpu().numpy(), result[:,3],average='weighted'))\n",
        "  #print(\"Overall test:\", f1_score( torch.Tensor(test['overall_sentiment']).cpu().numpy(), result[:,3],average='weighted'))"
      ],
      "metadata": {
        "id": "4DiL_RvKbfnD"
      },
      "execution_count": null,
      "outputs": []
    },
    {
      "cell_type": "code",
      "source": [
        "get_test_2(model)"
      ],
      "metadata": {
        "colab": {
          "base_uri": "https://localhost:8080/"
        },
        "id": "KaHsi-tI5oE_",
        "outputId": "a7a60207-eb66-489f-8e39-eb8e89a36089"
      },
      "execution_count": null,
      "outputs": [
        {
          "output_type": "stream",
          "name": "stdout",
          "text": [
            "-1: 0\n",
            "0: 3\n",
            "1: 1497\n",
            "2: 0\n",
            "3: 0\n",
            "4: 0\n",
            "5: 0\n",
            "Humour test: 0.9374355479841\n",
            "Sarcastic test: 0.6145405400781805\n",
            "Offensive test: 0.5809581448615388\n",
            "Moltivational test: 0.9800447427293065\n"
          ]
        }
      ]
    },
    {
      "cell_type": "code",
      "source": [
        "(0.4587+0.1660+0.6093+0.8607)/4"
      ],
      "metadata": {
        "colab": {
          "base_uri": "https://localhost:8080/"
        },
        "id": "Z_Eoj6q1-hBK",
        "outputId": "93094556-4f6f-4d94-c093-a312e4287508"
      },
      "execution_count": null,
      "outputs": [
        {
          "output_type": "execute_result",
          "data": {
            "text/plain": [
              "0.523675"
            ]
          },
          "metadata": {},
          "execution_count": 19
        }
      ]
    },
    {
      "cell_type": "code",
      "source": [
        "one = 0\n",
        "zero = 0\n",
        "other = 0\n",
        "for _, (a,b,d) in enumerate(train_loader):\n",
        "  for c in d:\n",
        "    if c[1] == 0:\n",
        "      zero += 1\n",
        "    elif c[1] == 1:\n",
        "      one += 1\n",
        "    else:\n",
        "      other +=1\n",
        "print(zero,one,other)\n",
        "one = 0\n",
        "zero = 0\n",
        "other = 0\n",
        "for _, (a,b,d) in enumerate(dev_loader):\n",
        "  for c in d:\n",
        "    if c[1] == 0:\n",
        "      zero += 1\n",
        "    elif c[1] == 1:\n",
        "      one += 1\n",
        "    else:\n",
        "      other +=1\n",
        "print(zero,one,other)"
      ],
      "metadata": {
        "colab": {
          "base_uri": "https://localhost:8080/"
        },
        "id": "2JdD99mGkOmx",
        "outputId": "5ea3d3fe-49f9-41d7-895f-ed0d82f927fc"
      },
      "execution_count": null,
      "outputs": [
        {
          "output_type": "stream",
          "name": "stdout",
          "text": [
            "3871 1759 1370\n",
            "804 388 308\n"
          ]
        }
      ]
    }
  ],
  "metadata": {
    "accelerator": "GPU",
    "colab": {
      "provenance": [],
      "machine_shape": "hm",
      "gpuType": "T4"
    },
    "gpuClass": "standard",
    "kernelspec": {
      "display_name": "Python 3",
      "language": "python",
      "name": "python3"
    },
    "language_info": {
      "codemirror_mode": {
        "name": "ipython",
        "version": 3
      },
      "file_extension": ".py",
      "mimetype": "text/x-python",
      "name": "python",
      "nbconvert_exporter": "python",
      "pygments_lexer": "ipython3",
      "version": "3.8.9"
    },
    "vscode": {
      "interpreter": {
        "hash": "31f2aee4e71d21fbe5cf8b01ff0e069b9275f58929596ceb00d14d90e3e16cd6"
      }
    }
  },
  "nbformat": 4,
  "nbformat_minor": 0
}