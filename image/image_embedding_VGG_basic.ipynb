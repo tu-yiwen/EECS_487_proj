{
  "nbformat": 4,
  "nbformat_minor": 0,
  "metadata": {
    "colab": {
      "provenance": []
    },
    "kernelspec": {
      "name": "python3",
      "display_name": "Python 3"
    },
    "language_info": {
      "name": "python"
    },
    "accelerator": "GPU",
    "gpuClass": "standard"
  },
  "cells": [
    {
      "cell_type": "code",
      "execution_count": 1,
      "metadata": {
        "colab": {
          "base_uri": "https://localhost:8080/"
        },
        "id": "y8RmsStz9aMN",
        "outputId": "234fa24c-69ea-4058-98d1-2355e53c09a9"
      },
      "outputs": [
        {
          "output_type": "stream",
          "name": "stdout",
          "text": [
            "Mounted at /content/drive\n",
            "['Data']\n"
          ]
        }
      ],
      "source": [
        "from google.colab import drive\n",
        "drive.mount('/content/drive')\n",
        "\n",
        "import os\n",
        "import sys\n",
        "\n",
        "# TODO: change this to the path to your homework folder\n",
        "GOOGLE_DRIVE_PATH_AFTER_MYDRIVE = '487/Project/'\n",
        "GOOGLE_DRIVE_PATH = os.path.join('drive', 'My Drive', GOOGLE_DRIVE_PATH_AFTER_MYDRIVE)\n",
        "print(os.listdir(GOOGLE_DRIVE_PATH))\n",
        "os.chdir(GOOGLE_DRIVE_PATH)"
      ]
    },
    {
      "cell_type": "code",
      "source": [
        "import torch\n",
        "import torch.nn as nn\n",
        "import torchvision.models as models\n",
        "import torchvision.transforms as transforms\n",
        "from PIL import Image\n",
        "\n",
        "device = 'cuda' if torch.cuda.is_available() else 'cpu'\n",
        "print(device)"
      ],
      "metadata": {
        "colab": {
          "base_uri": "https://localhost:8080/"
        },
        "id": "YFC8L3zh9k1J",
        "outputId": "9c861167-d965-4ec9-dbcf-eaabf8ee9662"
      },
      "execution_count": 1,
      "outputs": [
        {
          "output_type": "stream",
          "name": "stdout",
          "text": [
            "cuda\n"
          ]
        }
      ]
    },
    {
      "cell_type": "code",
      "source": [
        "model = models.vgg19(pretrained=True)\n",
        "# model.features = nn.Sequential(*list(model.features.children())[:-1])\n",
        "model.classifier = nn.Sequential(\n",
        "    nn.Linear(in_features=25088, out_features=4096, bias=True),\n",
        "    nn.ReLU(inplace=True),\n",
        "    nn.Dropout(p=0.5),\n",
        "    nn.Linear(in_features=4096, out_features=200, bias=True)\n",
        ")"
      ],
      "metadata": {
        "colab": {
          "base_uri": "https://localhost:8080/"
        },
        "id": "5jYIQ5XbCCpg",
        "outputId": "e21a2853-5651-4d78-9554-477d1b679270"
      },
      "execution_count": 7,
      "outputs": [
        {
          "output_type": "stream",
          "name": "stderr",
          "text": [
            "/usr/local/lib/python3.9/dist-packages/torchvision/models/_utils.py:208: UserWarning: The parameter 'pretrained' is deprecated since 0.13 and may be removed in the future, please use 'weights' instead.\n",
            "  warnings.warn(\n",
            "/usr/local/lib/python3.9/dist-packages/torchvision/models/_utils.py:223: UserWarning: Arguments other than a weight enum or `None` for 'weights' are deprecated since 0.13 and may be removed in the future. The current behavior is equivalent to passing `weights=VGG19_Weights.IMAGENET1K_V1`. You can also use `weights=VGG19_Weights.DEFAULT` to get the most up-to-date weights.\n",
            "  warnings.warn(msg)\n"
          ]
        }
      ]
    },
    {
      "cell_type": "code",
      "source": [
        "# Define a function to extract embeddings from an image\n",
        "def extract_embedding(img_path):\n",
        "    # Load image and preprocess\n",
        "    img = Image.open(img_path).convert('RGB')\n",
        "    preprocess = transforms.Compose([\n",
        "        transforms.Resize(256),\n",
        "        transforms.CenterCrop(224),\n",
        "        transforms.ToTensor(),\n",
        "        transforms.Normalize(mean=[0.485, 0.456, 0.406], std=[0.229, 0.224, 0.225])\n",
        "    ])\n",
        "    img = preprocess(img)\n",
        "\n",
        "    # Extract features from the image using VGG19 model\n",
        "    with torch.no_grad():\n",
        "        features = model(img.unsqueeze(0)).squeeze()\n",
        "\n",
        "    # Reshape features to a 200*1 embedding\n",
        "    embedding = features.view(-1, 1)\n",
        "\n",
        "    return embedding"
      ],
      "metadata": {
        "id": "dW2t3B1JDUR3"
      },
      "execution_count": 8,
      "outputs": []
    },
    {
      "cell_type": "code",
      "source": [
        "embeddings = ()\n",
        "path = '/Data/train_images'\n",
        "for i in range(1,7001):\n",
        "  path = path + i + '.jpg'\n",
        "  embeddings = embeddings + extract_embedding(path)\n",
        "\n",
        "embeddings = torch.stack(embeddings)\n",
        "print(embeddings.shape)\n",
        "torch.save(embeddings, 'VGG_basic.pt')"
      ],
      "metadata": {
        "colab": {
          "base_uri": "https://localhost:8080/"
        },
        "id": "7q6Vb061DWqD",
        "outputId": "ac4a8460-99e7-4b88-af37-b42d55d854bf"
      },
      "execution_count": 9,
      "outputs": [
        {
          "output_type": "stream",
          "name": "stdout",
          "text": [
            "torch.Size([200, 1])\n"
          ]
        }
      ]
    }
  ]
}