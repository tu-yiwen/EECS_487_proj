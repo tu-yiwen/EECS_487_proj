{
  "cells": [
    {
      "cell_type": "markdown",
      "metadata": {
        "id": "l9Wf0sOQT44c"
      },
      "source": [
        "# Meme Humour Classification: Deep-learning-based Multi-modal Fusion with Humor Semantics"
      ]
    },
    {
      "cell_type": "markdown",
      "metadata": {
        "id": "x2Ot5NCHT44g"
      },
      "source": [
        "## 1. import"
      ]
    },
    {
      "cell_type": "code",
      "execution_count": null,
      "metadata": {
        "colab": {
          "base_uri": "https://localhost:8080/"
        },
        "id": "XvL3bxeQqn31",
        "outputId": "feb3e7a9-01d1-4ae8-c972-346f75a8c12c"
      },
      "outputs": [
        {
          "output_type": "stream",
          "name": "stdout",
          "text": [
            "Mounted at /content/drive\n"
          ]
        }
      ],
      "source": [
        "from google.colab import drive\n",
        "drive.mount('/content/drive')"
      ]
    },
    {
      "cell_type": "code",
      "execution_count": null,
      "metadata": {
        "colab": {
          "base_uri": "https://localhost:8080/"
        },
        "id": "92PhTET_Unkf",
        "outputId": "dc570a73-2c62-4798-9c9a-4ab03baa5ec8"
      },
      "outputs": [
        {
          "output_type": "stream",
          "name": "stdout",
          "text": [
            "['__pycache__', '.ipynb_checkpoints', 'df_val_pickle', 'df_test_pickle', 'df_train_pickle', 'image', 'text', 'label', 'clip', 'test result.xlsx']\n"
          ]
        }
      ],
      "source": [
        "import os\n",
        "import sys\n",
        "\n",
        "# TODO: change this to the path to your homework folder\n",
        "GOOGLE_DRIVE_PATH = os.path.join('drive', 'MyDrive','EECS487Project')\n",
        "print(os.listdir(GOOGLE_DRIVE_PATH))\n",
        "\n",
        "os.chdir(GOOGLE_DRIVE_PATH)"
      ]
    },
    {
      "cell_type": "code",
      "execution_count": null,
      "metadata": {
        "colab": {
          "base_uri": "https://localhost:8080/"
        },
        "id": "a-yi0QqkrsbE",
        "outputId": "32280afd-eb92-4346-84e8-204fe8b52c48"
      },
      "outputs": [
        {
          "output_type": "stream",
          "name": "stdout",
          "text": [
            "Looking in indexes: https://pypi.org/simple, https://us-python.pkg.dev/colab-wheels/public/simple/\n",
            "Collecting transformers\n",
            "  Downloading transformers-4.28.1-py3-none-any.whl (7.0 MB)\n",
            "\u001b[2K     \u001b[90m━━━━━━━━━━━━━━━━━━━━━━━━━━━━━━━━━━━━━━━━\u001b[0m \u001b[32m7.0/7.0 MB\u001b[0m \u001b[31m54.4 MB/s\u001b[0m eta \u001b[36m0:00:00\u001b[0m\n",
            "\u001b[?25hRequirement already satisfied: tqdm>=4.27 in /usr/local/lib/python3.9/dist-packages (from transformers) (4.65.0)\n",
            "Requirement already satisfied: requests in /usr/local/lib/python3.9/dist-packages (from transformers) (2.27.1)\n",
            "Requirement already satisfied: numpy>=1.17 in /usr/local/lib/python3.9/dist-packages (from transformers) (1.22.4)\n",
            "Collecting tokenizers!=0.11.3,<0.14,>=0.11.1\n",
            "  Downloading tokenizers-0.13.3-cp39-cp39-manylinux_2_17_x86_64.manylinux2014_x86_64.whl (7.8 MB)\n",
            "\u001b[2K     \u001b[90m━━━━━━━━━━━━━━━━━━━━━━━━━━━━━━━━━━━━━━━━\u001b[0m \u001b[32m7.8/7.8 MB\u001b[0m \u001b[31m104.2 MB/s\u001b[0m eta \u001b[36m0:00:00\u001b[0m\n",
            "\u001b[?25hCollecting huggingface-hub<1.0,>=0.11.0\n",
            "  Downloading huggingface_hub-0.13.4-py3-none-any.whl (200 kB)\n",
            "\u001b[2K     \u001b[90m━━━━━━━━━━━━━━━━━━━━━━━━━━━━━━━━━━━━━━\u001b[0m \u001b[32m200.1/200.1 kB\u001b[0m \u001b[31m25.4 MB/s\u001b[0m eta \u001b[36m0:00:00\u001b[0m\n",
            "\u001b[?25hRequirement already satisfied: pyyaml>=5.1 in /usr/local/lib/python3.9/dist-packages (from transformers) (6.0)\n",
            "Requirement already satisfied: packaging>=20.0 in /usr/local/lib/python3.9/dist-packages (from transformers) (23.0)\n",
            "Requirement already satisfied: regex!=2019.12.17 in /usr/local/lib/python3.9/dist-packages (from transformers) (2022.10.31)\n",
            "Requirement already satisfied: filelock in /usr/local/lib/python3.9/dist-packages (from transformers) (3.11.0)\n",
            "Requirement already satisfied: typing-extensions>=3.7.4.3 in /usr/local/lib/python3.9/dist-packages (from huggingface-hub<1.0,>=0.11.0->transformers) (4.5.0)\n",
            "Requirement already satisfied: idna<4,>=2.5 in /usr/local/lib/python3.9/dist-packages (from requests->transformers) (3.4)\n",
            "Requirement already satisfied: charset-normalizer~=2.0.0 in /usr/local/lib/python3.9/dist-packages (from requests->transformers) (2.0.12)\n",
            "Requirement already satisfied: certifi>=2017.4.17 in /usr/local/lib/python3.9/dist-packages (from requests->transformers) (2022.12.7)\n",
            "Requirement already satisfied: urllib3<1.27,>=1.21.1 in /usr/local/lib/python3.9/dist-packages (from requests->transformers) (1.26.15)\n",
            "Installing collected packages: tokenizers, huggingface-hub, transformers\n",
            "Successfully installed huggingface-hub-0.13.4 tokenizers-0.13.3 transformers-4.28.1\n"
          ]
        }
      ],
      "source": [
        "!pip install transformers"
      ]
    },
    {
      "cell_type": "code",
      "execution_count": null,
      "metadata": {
        "colab": {
          "base_uri": "https://localhost:8080/",
          "height": 329,
          "referenced_widgets": [
            "789f06ff8ef94d7a9f9e0692bb955b79",
            "592bd32316d849e29eebc22cfa47a43a",
            "7eb0e4697f8148f68e994b299b90568d",
            "ace8aa5e556a495399fced0bedd9e23a",
            "5c9bdd20642e430fa7a89040bf66758a",
            "3b9a03fb69e145c28ff97c8b54f7521a",
            "5d27ce543bcb43858408fabfc426b75a",
            "aa12bc79cd3e44c78c3dfbf289a6fea0",
            "a1159841290941359ebd2fd9ef60e695",
            "f50e27c8f6654bfeb4c8b6df7c070299",
            "77afcfd79d11496a9a6befa72a4d4b83",
            "12b3585a14bb4160b183b6d65f24cde7",
            "a6950806fcf34810a640b9e55346aec7",
            "1857b008718645138c846b3f65498cda",
            "84a0e008808841ddb453084ace589cef",
            "17e639b94e7a4548bc8df0b23cfaeee1",
            "70a9d4a11bad40b1aa30df925ba90637",
            "6745820f8dcc4c7396aeee1ce2e47f2d",
            "912822bacab74734879f961c87fa028b",
            "8abc7753a3f44662b2405e1cbf465edd",
            "f1db132297d94d4296926acb4ad24fa0",
            "05df426db0744dbbaf14c13b9eddb0f8",
            "ee0a28346ebf4ad298db8044fa2cad6a",
            "477b4d8f146a423a819904c6239dd032",
            "ec53de4c596e4071bcc484f9063394ab",
            "7a345e0b8d934b6abec2d4e673ee2ba1",
            "5085733ba8114b42befe774d46660460",
            "f525a0ceb2b240019056fb752fe94bd2",
            "1c5b6494575d49cd83d1bdc2fa7a55b4",
            "97637ed1bd9d43e3b03c96a98202777b",
            "b935c1f27ee547c4863d71c436885c45",
            "4ea959d95e2a47ea9d8a03e982e9edc7",
            "afcc7749832f4b44b4133ac970fb4168",
            "9df886913cbe41a0aa513a7aa25e5684",
            "ab29d1f2b9264485b5ec584f881b8629",
            "e98f85d083e34dd0b1244d55eebc110f",
            "02bd1f41f48e485d8bb466286b3d63c2",
            "d896eb2d6a414bc68caeb0bcd95ce5af",
            "ff0389227cec4a7a8a5926905a597cf9",
            "90dd9cfa65d247478649fa5795fb4432",
            "59f3875b502a4161a2a15f63b5aead1e",
            "b53d15346874485989cd209fae63f537",
            "cf788b840c614ffd9cf65b76a2cb1029",
            "effdf1c87e0c4ac4bdd260a5603a281f"
          ]
        },
        "id": "OcdnYBOdT44h",
        "outputId": "9d48f243-2df3-4733-afe0-a0ef8b5bb0ec"
      },
      "outputs": [
        {
          "output_type": "display_data",
          "data": {
            "text/plain": [
              "Downloading (…)olve/main/vocab.json:   0%|          | 0.00/899k [00:00<?, ?B/s]"
            ],
            "application/vnd.jupyter.widget-view+json": {
              "version_major": 2,
              "version_minor": 0,
              "model_id": "789f06ff8ef94d7a9f9e0692bb955b79"
            }
          },
          "metadata": {}
        },
        {
          "output_type": "display_data",
          "data": {
            "text/plain": [
              "Downloading (…)olve/main/merges.txt:   0%|          | 0.00/456k [00:00<?, ?B/s]"
            ],
            "application/vnd.jupyter.widget-view+json": {
              "version_major": 2,
              "version_minor": 0,
              "model_id": "12b3585a14bb4160b183b6d65f24cde7"
            }
          },
          "metadata": {}
        },
        {
          "output_type": "display_data",
          "data": {
            "text/plain": [
              "Downloading (…)lve/main/config.json:   0%|          | 0.00/481 [00:00<?, ?B/s]"
            ],
            "application/vnd.jupyter.widget-view+json": {
              "version_major": 2,
              "version_minor": 0,
              "model_id": "ee0a28346ebf4ad298db8044fa2cad6a"
            }
          },
          "metadata": {}
        },
        {
          "output_type": "display_data",
          "data": {
            "text/plain": [
              "Downloading pytorch_model.bin:   0%|          | 0.00/501M [00:00<?, ?B/s]"
            ],
            "application/vnd.jupyter.widget-view+json": {
              "version_major": 2,
              "version_minor": 0,
              "model_id": "9df886913cbe41a0aa513a7aa25e5684"
            }
          },
          "metadata": {}
        },
        {
          "output_type": "stream",
          "name": "stderr",
          "text": [
            "Some weights of the model checkpoint at roberta-base were not used when initializing RobertaModel: ['lm_head.decoder.weight', 'lm_head.dense.bias', 'lm_head.layer_norm.weight', 'lm_head.bias', 'lm_head.dense.weight', 'lm_head.layer_norm.bias']\n",
            "- This IS expected if you are initializing RobertaModel from the checkpoint of a model trained on another task or with another architecture (e.g. initializing a BertForSequenceClassification model from a BertForPreTraining model).\n",
            "- This IS NOT expected if you are initializing RobertaModel from the checkpoint of a model that you expect to be exactly identical (initializing a BertForSequenceClassification model from a BertForSequenceClassification model).\n"
          ]
        }
      ],
      "source": [
        "# import packages\n",
        "import pandas as pd\n",
        "import numpy as np\n",
        "from sklearn.model_selection import train_test_split\n",
        "import torch\n",
        "\n",
        "# import directories\n",
        "import image\n",
        "from text import text_embedding"
      ]
    },
    {
      "cell_type": "markdown",
      "metadata": {
        "id": "mk33QfgJT44j"
      },
      "source": [
        "## 2. Load dataset"
      ]
    },
    {
      "cell_type": "code",
      "execution_count": null,
      "metadata": {
        "id": "HQ5GRaKKT44k",
        "colab": {
          "base_uri": "https://localhost:8080/"
        },
        "outputId": "f7554d38-dec4-4008-9c51-dd145247e2cb"
      },
      "outputs": [
        {
          "output_type": "execute_result",
          "data": {
            "text/plain": [
              "0          little_sarcastic\n",
              "1          little_sarcastic\n",
              "2             not_sarcastic\n",
              "3            very_sarcastic\n",
              "4             not_sarcastic\n",
              "               ...         \n",
              "1495       little_sarcastic\n",
              "1496       little_sarcastic\n",
              "1497    extremely_sarcastic\n",
              "1498       little_sarcastic\n",
              "1499          not_sarcastic\n",
              "Name: sarcastic, Length: 1500, dtype: object"
            ]
          },
          "metadata": {},
          "execution_count": 105
        }
      ],
      "source": [
        "# load labels_pd_pickle\n",
        "train = pd.read_pickle('df_train_pickle')\n",
        "val = pd.read_pickle('df_val_pickle')\n",
        "test = pd.read_pickle('df_test_pickle')\n",
        "# show first 5 rows\n",
        "val['sarcastic']"
      ]
    },
    {
      "cell_type": "code",
      "source": [
        "def basic_collate_fn_all(batch):\n",
        "    \"\"\"Collate function for basic setting.\"\"\"\n",
        "    # texts\n",
        "    text = torch.stack(tuple(item['text'].to('cuda') for item in batch)).to('cuda')\n",
        "    # image\n",
        "    image = torch.stack(tuple(item['image_embedding'] for item in batch)).to('cuda')\n",
        "    # clip\n",
        "    clip = torch.stack(tuple(item['clip'] for item in batch)).to('cuda')\n",
        "    # labels\n",
        "    labels = [item['rating'][3] for item in batch]\n",
        "    return text, image, clip, labels"
      ],
      "metadata": {
        "id": "-dp1PTL2zjSn"
      },
      "execution_count": null,
      "outputs": []
    },
    {
      "cell_type": "code",
      "source": [
        "from torch.utils.data import Dataset\n",
        "class dataloader(Dataset):\n",
        "    \"\"\"Generate data loader.\"\"\"\n",
        "    def __init__(self, train,file1,file2, file3):\n",
        "        super().__init__()\n",
        "        image_embedding = torch.load(file1)\n",
        "        text_embedding = torch.load(file2)\n",
        "        clip_embedding = torch.load(file3).float()\n",
        "        self.items = []\n",
        "        train['humour'] = train['humour'].map({'hilarious': 1, 'very_funny': 1, 'funny': 1, 'not_funny': 0})\n",
        "        train['sarcastic'] = train['sarcastic'].map({'extremely_sarcastic':1, 'very_sarcastic': 1, 'little_sarcastic': 1, 'not_sarcastic': 0})\n",
        "        train['offensive'] = train['offensive'].map({'hateful_offensive':1, 'very_offensive': 1, 'slight': 1, 'not_offensive': 0})\n",
        "        train['motivational'] = train['motivational'].map({'motivational': 1, 'not_motivational': 0})\n",
        "        train['overall_sentiment'] = train['overall_sentiment'].map({'very_positive':1,'positive': 1, 'very_negative':0, 'negative': 0, 'neutral': 1})\n",
        "        for index, row in train.iterrows():\n",
        "            self.items.append({\n",
        "                'text': text_embedding[index],\n",
        "                'image_embedding': image_embedding[index].squeeze(),\n",
        "                'clip': clip_embedding[index],\n",
        "                'rating': [row['humour'],row['sarcastic'],row['offensive'],row['motivational'],row['overall_sentiment']]\n",
        "                #'rating': [row['humour'],row['sarcastic'],row['offensive'],row['overall_sentiment']]\n",
        "            })\n",
        "        self.labels = [item['rating'][1] for item in self.items]  # define labels as a list of ratings\n",
        "  \n",
        "    \n",
        "    def __len__(self):\n",
        "        return len(self.items)\n",
        "    \n",
        "    def __getitem__(self, index):\n",
        "        return self.items[index]\n",
        "      \n",
        "    def get_labels(self):\n",
        "        return self.labels;\n"
      ],
      "metadata": {
        "id": "Gu5EBf0GOZA_"
      },
      "execution_count": null,
      "outputs": []
    },
    {
      "cell_type": "code",
      "source": [],
      "metadata": {
        "id": "qaEs0Vs2OZa0"
      },
      "execution_count": null,
      "outputs": []
    },
    {
      "cell_type": "code",
      "execution_count": null,
      "metadata": {
        "id": "Uksp3Lk5T44l"
      },
      "outputs": [],
      "source": [
        "train_data = dataloader(train,'image/image_embedding_VGG_finetuned_enhanced.pt','text/train_text_embed_ft', 'clip/clip_embedding_train.pt')\n",
        "val_data = dataloader(val,'image/val_embedding_VGG_finetuned.pt','text/val_text_embed_ft', 'clip/clip_embedding_val.pt')"
      ]
    },
    {
      "cell_type": "code",
      "source": [
        "!pip install torchsampler"
      ],
      "metadata": {
        "colab": {
          "base_uri": "https://localhost:8080/"
        },
        "id": "p4t_fQo5gus1",
        "outputId": "22b59ddd-f1f4-496e-d1ba-5c5ad3174f70"
      },
      "execution_count": null,
      "outputs": [
        {
          "output_type": "stream",
          "name": "stdout",
          "text": [
            "Looking in indexes: https://pypi.org/simple, https://us-python.pkg.dev/colab-wheels/public/simple/\n",
            "Collecting torchsampler\n",
            "  Downloading torchsampler-0.1.2-py3-none-any.whl (5.6 kB)\n",
            "Requirement already satisfied: torchvision>=0.5 in /usr/local/lib/python3.9/dist-packages (from torchsampler) (0.15.1+cu118)\n",
            "Requirement already satisfied: pandas in /usr/local/lib/python3.9/dist-packages (from torchsampler) (1.5.3)\n",
            "Requirement already satisfied: torch>=1.3 in /usr/local/lib/python3.9/dist-packages (from torchsampler) (2.0.0+cu118)\n",
            "Requirement already satisfied: networkx in /usr/local/lib/python3.9/dist-packages (from torch>=1.3->torchsampler) (3.1)\n",
            "Requirement already satisfied: jinja2 in /usr/local/lib/python3.9/dist-packages (from torch>=1.3->torchsampler) (3.1.2)\n",
            "Requirement already satisfied: sympy in /usr/local/lib/python3.9/dist-packages (from torch>=1.3->torchsampler) (1.11.1)\n",
            "Requirement already satisfied: filelock in /usr/local/lib/python3.9/dist-packages (from torch>=1.3->torchsampler) (3.11.0)\n",
            "Requirement already satisfied: triton==2.0.0 in /usr/local/lib/python3.9/dist-packages (from torch>=1.3->torchsampler) (2.0.0)\n",
            "Requirement already satisfied: typing-extensions in /usr/local/lib/python3.9/dist-packages (from torch>=1.3->torchsampler) (4.5.0)\n",
            "Requirement already satisfied: cmake in /usr/local/lib/python3.9/dist-packages (from triton==2.0.0->torch>=1.3->torchsampler) (3.25.2)\n",
            "Requirement already satisfied: lit in /usr/local/lib/python3.9/dist-packages (from triton==2.0.0->torch>=1.3->torchsampler) (16.0.1)\n",
            "Requirement already satisfied: requests in /usr/local/lib/python3.9/dist-packages (from torchvision>=0.5->torchsampler) (2.27.1)\n",
            "Requirement already satisfied: pillow!=8.3.*,>=5.3.0 in /usr/local/lib/python3.9/dist-packages (from torchvision>=0.5->torchsampler) (8.4.0)\n",
            "Requirement already satisfied: numpy in /usr/local/lib/python3.9/dist-packages (from torchvision>=0.5->torchsampler) (1.22.4)\n",
            "Requirement already satisfied: python-dateutil>=2.8.1 in /usr/local/lib/python3.9/dist-packages (from pandas->torchsampler) (2.8.2)\n",
            "Requirement already satisfied: pytz>=2020.1 in /usr/local/lib/python3.9/dist-packages (from pandas->torchsampler) (2022.7.1)\n",
            "Requirement already satisfied: six>=1.5 in /usr/local/lib/python3.9/dist-packages (from python-dateutil>=2.8.1->pandas->torchsampler) (1.16.0)\n",
            "Requirement already satisfied: MarkupSafe>=2.0 in /usr/local/lib/python3.9/dist-packages (from jinja2->torch>=1.3->torchsampler) (2.1.2)\n",
            "Requirement already satisfied: charset-normalizer~=2.0.0 in /usr/local/lib/python3.9/dist-packages (from requests->torchvision>=0.5->torchsampler) (2.0.12)\n",
            "Requirement already satisfied: certifi>=2017.4.17 in /usr/local/lib/python3.9/dist-packages (from requests->torchvision>=0.5->torchsampler) (2022.12.7)\n",
            "Requirement already satisfied: urllib3<1.27,>=1.21.1 in /usr/local/lib/python3.9/dist-packages (from requests->torchvision>=0.5->torchsampler) (1.26.15)\n",
            "Requirement already satisfied: idna<4,>=2.5 in /usr/local/lib/python3.9/dist-packages (from requests->torchvision>=0.5->torchsampler) (3.4)\n",
            "Requirement already satisfied: mpmath>=0.19 in /usr/local/lib/python3.9/dist-packages (from sympy->torch>=1.3->torchsampler) (1.3.0)\n",
            "Installing collected packages: torchsampler\n",
            "Successfully installed torchsampler-0.1.2\n"
          ]
        }
      ]
    },
    {
      "cell_type": "code",
      "execution_count": null,
      "metadata": {
        "id": "mvSq7HQZT44l"
      },
      "outputs": [],
      "source": [
        "from torch.utils.data import DataLoader\n",
        "from torchsampler import ImbalancedDatasetSampler\n",
        "train_loader = DataLoader(train_data, batch_size=32, collate_fn=basic_collate_fn_all, shuffle=True)\n",
        "#dev_loader = DataLoader(val_data, batch_size=32, collate_fn=basic_collate_fn_all, shuffle=True)\n",
        "#train_loader = DataLoader(train_data, sampler=ImbalancedDatasetSampler(train_data), batch_size=32, collate_fn=basic_collate_fn_all)\n",
        "#print(len(train_loader.dataset))\n",
        "\n",
        "dev_loader = DataLoader(val_data, batch_size=32, collate_fn=basic_collate_fn_all, shuffle=True)"
      ]
    },
    {
      "cell_type": "code",
      "source": [
        "# #s={1:0,0:0}\n",
        "# for _, (a,b,c,d) in enumerate(train_loader):\n",
        "#   print(b)\n",
        "#   break\n",
        "# #  for item in c:\n",
        "# #    if item[3]==0:\n",
        "# #      s[0] += 1\n",
        "# #    else:\n",
        "# #      s[1] += 1\n",
        "# #s\n",
        "# image_embedding = torch.load('image/image_embedding_VGG_finetuned_enhanced.pt')\n",
        "# text_embedding = torch.load('text/train_text_embedding_R.pt')\n",
        "# clip_embedding = torch.load('clip/clip_embedding_train.pt')\n",
        "# print(image_embedding.dtype)\n",
        "# print(clip_embedding.dtype)\n",
        "# clip_embedding = clip_embedding.float()\n",
        "# print(clip_embedding.dtype)\n"
      ],
      "metadata": {
        "id": "IeI6THxS07RR"
      },
      "execution_count": null,
      "outputs": []
    },
    {
      "cell_type": "markdown",
      "source": [
        "# 3. CLIP Embedding"
      ],
      "metadata": {
        "id": "KcvGZGeK2CC6"
      }
    },
    {
      "cell_type": "markdown",
      "metadata": {
        "id": "ctBR7u6GT44p"
      },
      "source": [
        "## 4. Train Model"
      ]
    },
    {
      "cell_type": "code",
      "execution_count": null,
      "metadata": {
        "id": "7GyMSOBNT44q"
      },
      "outputs": [],
      "source": [
        "# transformer for multi-tasking\n",
        "\n",
        "import torch\n",
        "import torch.nn as nn\n",
        "import torch.optim as optim\n",
        "\n",
        "class TransformerClassifier(nn.Module):\n",
        "    def __init__(self, hidden_size, output_size, num_layers):\n",
        "        super(TransformerClassifier, self).__init__()\n",
        "        self.fc1 = nn.Linear(768, 512)\n",
        "        \n",
        "        self.fc2 = nn.Linear(800, 512)\n",
        "\n",
        "        self.fc3 = nn.Linear(1024, 512)\n",
        "        # for attention\n",
        "        self.encoder = nn.TransformerEncoder(\n",
        "            nn.TransformerEncoderLayer(512,nhead=8),2\n",
        "        )\n",
        "        # for concatenation\n",
        "        #self.encoder = nn.TransformerEncoder(\n",
        "        #    nn.TransformerEncoderLayer(1024,nhead=8),2\n",
        "        #)\n",
        "        self.dropout = nn.Dropout(0.3)\n",
        "        self.fc4 = nn.Linear(512, 1)\n",
        "        self.sigmoid = nn.Sigmoid()\n",
        "        #self.attention = nn.Linear(1024, 1024)\n",
        "        #self.fc5 = nn.Linear(1024, 4)\n",
        "        \n",
        "    def forward(self, x,y,z):\n",
        "        # res = self.encoder(y)\n",
        "        \n",
        "        # attention\n",
        "        x = self.fc1(x.squeeze())\n",
        "        y = self.fc2(y)\n",
        "        z = self.fc3(z.squeeze())\n",
        "        x = self.encoder(torch.stack((x,y,z)))\n",
        "        x = x.max(dim = 0)[0]\n",
        "        #print(\"x: {}\".format(x.size()))\n",
        "        x = self.dropout(x)\n",
        "        res = self.fc4(x)\n",
        "        res = self.sigmoid(res)\n",
        "        \n",
        "        '''\n",
        "        # concatenation\n",
        "        x = self.fc1(x.squeeze())\n",
        "        y = self.fc2(y.squeeze())\n",
        "        z = torch.cat((x, y), dim=1)\n",
        "        #print(\"z: {}\".format(z.size()))\n",
        "        z = self.encoder(z.unsqueeze(0)).squeeze(0)\n",
        "        z = self.dropout(z)\n",
        "        #print(\"z: {}\".format(z))\n",
        "        res = self.fc4(z)\n",
        "        '''\n",
        "\n",
        "        #print(\"res: {}\".format(res.size()))\n",
        "        return res\n"
      ]
    },
    {
      "cell_type": "code",
      "execution_count": null,
      "metadata": {
        "id": "VBAkxA8KT44q"
      },
      "outputs": [],
      "source": [
        "def train_tf(model, train_loader, optimizer, epochs=5):\n",
        "    train_loss, train_loss_ind, val_loss, val_loss_ind = [], [], [], []\n",
        "    best_acc = 0\n",
        "    for epoch in range(epochs):\n",
        "        model.train()\n",
        "        for idx, (text, image, clip, target) in enumerate(train_loader):\n",
        "            optimizer.zero_grad()\n",
        "            target = torch.Tensor(target).to('cuda')\n",
        "            output = model(text,image,clip).squeeze()\n",
        "            loss = nn.CrossEntropyLoss()(output,target)\n",
        "            loss.backward()\n",
        "            optimizer.step()\n",
        "        if epoch%1 == 0:\n",
        "          print('Epoch: {} Loss: {}'.format(\n",
        "                    epoch, \n",
        "                    loss.item()))\n",
        "        train_loss_ind.append(epoch)\n",
        "        val_loss_ind.append(epoch)\n",
        "        train_loss.append(loss.item())\n",
        "        model.eval()\n",
        "        acc = torch.Tensor([0]).to('cuda')\n",
        "        with torch.no_grad():\n",
        "          for idx, (text, image, clip, target) in enumerate(dev_loader):\n",
        "              target = torch.Tensor(target).squeeze().to('cuda')\n",
        "              output = model(text,image,clip).squeeze()\n",
        "              loss = nn.CrossEntropyLoss()(output,target)\n",
        "              acc += sum(torch.round(output) == target) /1500\n",
        "        if epoch%1 == 0:\n",
        "          print('Epoch',epoch,'val loss',loss.item(),'val acc',acc)\n",
        "        val_loss.append(loss.item())\n",
        "    stats = {'train_loss': train_loss,\n",
        "          'train_loss_ind': train_loss_ind,\n",
        "          'val_loss': val_loss,\n",
        "          'val_loss_ind': val_loss_ind,\n",
        "          'accuracy': acc,\n",
        "    }\n",
        "    return model,stats"
      ]
    },
    {
      "cell_type": "code",
      "source": [
        "import matplotlib.pyplot as plt\n",
        "from torch import optim"
      ],
      "metadata": {
        "id": "FYmBX5FGxe5O"
      },
      "execution_count": null,
      "outputs": []
    },
    {
      "cell_type": "code",
      "source": [
        "def plot_loss(stats):\n",
        "    \"\"\"Plot training loss and validation loss.\"\"\"\n",
        "    plt.plot(stats['train_loss_ind'], stats['train_loss'], label='Training loss')\n",
        "    plt.plot(stats['val_loss_ind'], stats['val_loss'], label='Validation loss')\n",
        "    plt.legend()\n",
        "    plt.xlabel('Number of iterations')\n",
        "    plt.ylabel('Loss')\n",
        "    plt.show()"
      ],
      "metadata": {
        "id": "8G9vDxt9xc_X"
      },
      "execution_count": null,
      "outputs": []
    },
    {
      "cell_type": "code",
      "source": [
        "for lr in [0.0001]:\n",
        "  for wd in [0]:\n",
        "    for hd in [512]:\n",
        "      for ly in [2]:\n",
        "        model_tf = TransformerClassifier(hd,1,ly).to('cuda')\n",
        "        optimizer = optim.Adam(model_tf.parameters(), lr=lr,weight_decay=wd)\n",
        "        print('learning rate: {}, weight decay: {}, hidden layer: {}, layer number: {}'.format(lr, wd, hd, ly))\n",
        "        model, stats = train_tf(model_tf,train_loader,optimizer,50)\n",
        "        plot_loss(stats)"
      ],
      "metadata": {
        "colab": {
          "base_uri": "https://localhost:8080/",
          "height": 1000
        },
        "id": "jDht468TaZeN",
        "outputId": "06987473-d5ab-4edf-8ee6-444d013d1d64"
      },
      "execution_count": null,
      "outputs": [
        {
          "output_type": "stream",
          "name": "stdout",
          "text": [
            "learning rate: 0.0001, weight decay: 0, hidden layer: 512, layer number: 2\n",
            "Epoch: 0 Loss: 3.178154230117798\n",
            "Epoch 0 val loss -0.0 val acc tensor([0.9533], device='cuda:0')\n",
            "Epoch: 1 Loss: -0.0\n",
            "Epoch 1 val loss 6.664411544799805 val acc tensor([0.9533], device='cuda:0')\n",
            "Epoch: 2 Loss: 6.356154441833496\n",
            "Epoch 2 val loss 6.6644086837768555 val acc tensor([0.9533], device='cuda:0')\n",
            "Epoch: 3 Loss: 3.1780314445495605\n",
            "Epoch 3 val loss 6.66441011428833 val acc tensor([0.9533], device='cuda:0')\n",
            "Epoch: 4 Loss: -0.0\n",
            "Epoch 4 val loss 6.664409637451172 val acc tensor([0.9533], device='cuda:0')\n",
            "Epoch: 5 Loss: -0.0\n",
            "Epoch 5 val loss -0.0 val acc tensor([0.9533], device='cuda:0')\n",
            "Epoch: 6 Loss: 6.356117248535156\n",
            "Epoch 6 val loss 3.3322041034698486 val acc tensor([0.9533], device='cuda:0')\n",
            "Epoch: 7 Loss: 6.35615348815918\n",
            "Epoch 7 val loss 3.3322060108184814 val acc tensor([0.9533], device='cuda:0')\n",
            "Epoch: 8 Loss: 6.356077671051025\n",
            "Epoch 8 val loss 6.664409637451172 val acc tensor([0.9533], device='cuda:0')\n",
            "Epoch: 9 Loss: 3.1779558658599854\n",
            "Epoch 9 val loss 3.332202672958374 val acc tensor([0.9533], device='cuda:0')\n",
            "Epoch: 10 Loss: 6.356108665466309\n",
            "Epoch 10 val loss -0.0 val acc tensor([0.9533], device='cuda:0')\n",
            "Epoch: 11 Loss: 3.1780619621276855\n",
            "Epoch 11 val loss 3.332205057144165 val acc tensor([0.9533], device='cuda:0')\n",
            "Epoch: 12 Loss: -0.0\n",
            "Epoch 12 val loss 3.332204580307007 val acc tensor([0.9533], device='cuda:0')\n",
            "Epoch: 13 Loss: 6.3561553955078125\n",
            "Epoch 13 val loss 6.664410591125488 val acc tensor([0.9533], device='cuda:0')\n",
            "Epoch: 14 Loss: 3.178056001663208\n",
            "Epoch 14 val loss 3.3322036266326904 val acc tensor([0.9533], device='cuda:0')\n",
            "Epoch: 15 Loss: -0.0\n",
            "Epoch 15 val loss 3.332205057144165 val acc tensor([0.9533], device='cuda:0')\n",
            "Epoch: 16 Loss: 6.356103897094727\n",
            "Epoch 16 val loss 6.6644086837768555 val acc tensor([0.9533], device='cuda:0')\n",
            "Epoch: 17 Loss: 6.356061935424805\n",
            "Epoch 17 val loss -0.0 val acc tensor([0.9533], device='cuda:0')\n",
            "Epoch: 18 Loss: 3.177931070327759\n",
            "Epoch 18 val loss -0.0 val acc tensor([0.9533], device='cuda:0')\n",
            "Epoch: 19 Loss: -0.0\n",
            "Epoch 19 val loss -0.0 val acc tensor([0.9533], device='cuda:0')\n",
            "Epoch: 20 Loss: 6.356476306915283\n",
            "Epoch 20 val loss 9.996641159057617 val acc tensor([0.9533], device='cuda:0')\n",
            "Epoch: 21 Loss: 9.534191131591797\n",
            "Epoch 21 val loss -0.0 val acc tensor([0.9533], device='cuda:0')\n",
            "Epoch: 22 Loss: 6.356104850769043\n",
            "Epoch 22 val loss -0.0 val acc tensor([0.9533], device='cuda:0')\n",
            "Epoch: 23 Loss: 3.1780526638031006\n",
            "Epoch 23 val loss 3.332204580307007 val acc tensor([0.9533], device='cuda:0')\n",
            "Epoch: 24 Loss: 3.1780545711517334\n",
            "Epoch 24 val loss 3.3322043418884277 val acc tensor([0.9533], device='cuda:0')\n",
            "Epoch: 25 Loss: 3.1780550479888916\n",
            "Epoch 25 val loss 6.6644086837768555 val acc tensor([0.9533], device='cuda:0')\n",
            "Epoch: 26 Loss: 3.1780552864074707\n",
            "Epoch 26 val loss 6.6644086837768555 val acc tensor([0.9533], device='cuda:0')\n",
            "Epoch: 27 Loss: 6.356125831604004\n",
            "Epoch 27 val loss 6.6644086837768555 val acc tensor([0.9533], device='cuda:0')\n",
            "Epoch: 28 Loss: 3.17806339263916\n",
            "Epoch 28 val loss 6.664409160614014 val acc tensor([0.9533], device='cuda:0')\n",
            "Epoch: 29 Loss: 9.534140586853027\n",
            "Epoch 29 val loss 3.332204580307007 val acc tensor([0.9533], device='cuda:0')\n",
            "Epoch: 30 Loss: -0.0\n",
            "Epoch 30 val loss -0.0 val acc tensor([0.9533], device='cuda:0')\n",
            "Epoch: 31 Loss: 3.1780807971954346\n",
            "Epoch 31 val loss 3.332204580307007 val acc tensor([0.9533], device='cuda:0')\n",
            "Epoch: 32 Loss: 3.1780483722686768\n",
            "Epoch 32 val loss 3.332204580307007 val acc tensor([0.9533], device='cuda:0')\n",
            "Epoch: 33 Loss: 6.35612678527832\n",
            "Epoch 33 val loss 3.3322043418884277 val acc tensor([0.9533], device='cuda:0')\n",
            "Epoch: 34 Loss: 6.356137752532959\n",
            "Epoch 34 val loss 3.332204580307007 val acc tensor([0.9533], device='cuda:0')\n",
            "Epoch: 35 Loss: 3.1780219078063965\n",
            "Epoch 35 val loss 9.996612548828125 val acc tensor([0.9533], device='cuda:0')\n",
            "Epoch: 36 Loss: -0.0\n",
            "Epoch 36 val loss 6.664409637451172 val acc tensor([0.9533], device='cuda:0')\n",
            "Epoch: 37 Loss: 3.1780717372894287\n",
            "Epoch 37 val loss 3.332204580307007 val acc tensor([0.9533], device='cuda:0')\n",
            "Epoch: 38 Loss: 6.356136798858643\n",
            "Epoch 38 val loss -0.0 val acc tensor([0.9533], device='cuda:0')\n",
            "Epoch: 39 Loss: 3.178086280822754\n",
            "Epoch 39 val loss -0.0 val acc tensor([0.9533], device='cuda:0')\n",
            "Epoch: 40 Loss: 3.178062915802002\n",
            "Epoch 40 val loss -0.0 val acc tensor([0.9533], device='cuda:0')\n",
            "Epoch: 41 Loss: -0.0\n",
            "Epoch 41 val loss -0.0 val acc tensor([0.9533], device='cuda:0')\n",
            "Epoch: 42 Loss: -0.0\n",
            "Epoch 42 val loss -0.0 val acc tensor([0.9533], device='cuda:0')\n",
            "Epoch: 43 Loss: 3.1780447959899902\n",
            "Epoch 43 val loss -0.0 val acc tensor([0.9533], device='cuda:0')\n",
            "Epoch: 44 Loss: -0.0\n",
            "Epoch 44 val loss -0.0 val acc tensor([0.9533], device='cuda:0')\n",
            "Epoch: 45 Loss: 3.178079128265381\n",
            "Epoch 45 val loss 6.6644086837768555 val acc tensor([0.9533], device='cuda:0')\n",
            "Epoch: 46 Loss: 3.1780569553375244\n",
            "Epoch 46 val loss -0.0 val acc tensor([0.9533], device='cuda:0')\n",
            "Epoch: 47 Loss: -0.0\n",
            "Epoch 47 val loss -0.0 val acc tensor([0.9533], device='cuda:0')\n",
            "Epoch: 48 Loss: 12.712180137634277\n",
            "Epoch 48 val loss 3.3322043418884277 val acc tensor([0.9533], device='cuda:0')\n",
            "Epoch: 49 Loss: 3.178037166595459\n",
            "Epoch 49 val loss 3.332204580307007 val acc tensor([0.9533], device='cuda:0')\n"
          ]
        },
        {
          "output_type": "display_data",
          "data": {
            "text/plain": [
              "<Figure size 640x480 with 1 Axes>"
            ],
            "image/png": "[encoded data removed]"
          },
          "metadata": {}
        }
      ]
    },
    {
      "cell_type": "code",
      "execution_count": null,
      "metadata": {
        "id": "Os0GAfYJd5TK"
      },
      "outputs": [],
      "source": [
        "for lr in [0.001,0.0001]:\n",
        "  for wd in [0,0.00001]:\n",
        "    for hd in [128,256]:\n",
        "      for ly in [2,4]:\n",
        "        model_tf = TransformerClassifier(hd,1,ly).to('cuda')\n",
        "        optimizer = optim.AdamW(model_tf.parameters(), lr=lr,weight_decay=wd)\n",
        "        print(lr,wd,hd,ly)\n",
        "        model, stats = train_tf(model_tf,train_loader,optimizer,50)\n",
        "        plot_loss(stats)"
      ]
    },
    {
      "cell_type": "markdown",
      "metadata": {
        "id": "3vA7r09uT44r"
      },
      "source": [
        "## 5. Test Model"
      ]
    },
    {
      "cell_type": "code",
      "source": [
        "test = pd.read_csv('label/test_gold.csv')\n",
        "test['humour'] = test['humour'].map({'hilarious': 1, 'very_funny':1, 'funny': 1, 'not_funny': 0})\n",
        "test['sarcastic'] = test['sarcastic'].map({'extremely_sarcastic':1, 'very_sarcastic': 1, 'little_sarcastic': 1, 'not_sarcastic': 0})\n",
        "test['offensive'] = test['offensive'].map({'hateful_offensive':1, 'very_offensive': 1, 'slight': 1, 'not_offensive': 0})\n",
        "test['motivational'] = test['motivational'].map({'motivational': 1, 'not_motivational': 0})\n",
        "test['overall_sentiment'] = test['overall_sentiment'].map({'very_positive':1,'positive': 1, 'very_negative':0, 'negative': 0, 'neutral': 1})"
      ],
      "metadata": {
        "id": "_KzMBOUW5Q66"
      },
      "execution_count": null,
      "outputs": []
    },
    {
      "cell_type": "code",
      "source": [
        "image_embedding = torch.load('image/test_embedding_VGG_finetuned.pt').squeeze().to('cuda')\n",
        "text_embedding = torch.load('text/test_text_embedding_R.pt')\n",
        "clip_embedding = torch.load('clip/clip_embedding_test.pt')\n",
        "text = torch.stack(tuple(item for item in text_embedding)).to('cuda')\n",
        "result = torch.round(model.forward(text,image_embedding)).to('cuda')\n",
        "print(torch.Tensor(test['humour']))\n",
        "print(result[:, 0])"
      ],
      "metadata": {
        "id": "ToiU69dKLzLX",
        "colab": {
          "base_uri": "https://localhost:8080/",
          "height": 235
        },
        "outputId": "8d3eb109-c239-4bd7-9d49-727c6ffc245e"
      },
      "execution_count": null,
      "outputs": [
        {
          "output_type": "error",
          "ename": "TypeError",
          "evalue": "ignored",
          "traceback": [
            "\u001b[0;31m---------------------------------------------------------------------------\u001b[0m",
            "\u001b[0;31mTypeError\u001b[0m                                 Traceback (most recent call last)",
            "\u001b[0;32m<ipython-input-17-b2f148877a3d>\u001b[0m in \u001b[0;36m<cell line: 4>\u001b[0;34m()\u001b[0m\n\u001b[1;32m      2\u001b[0m \u001b[0mtext_embedding\u001b[0m \u001b[0;34m=\u001b[0m \u001b[0mtorch\u001b[0m\u001b[0;34m.\u001b[0m\u001b[0mload\u001b[0m\u001b[0;34m(\u001b[0m\u001b[0;34m'text/test_text_embedding_R.pt'\u001b[0m\u001b[0;34m)\u001b[0m\u001b[0;34m\u001b[0m\u001b[0;34m\u001b[0m\u001b[0m\n\u001b[1;32m      3\u001b[0m \u001b[0mtext\u001b[0m \u001b[0;34m=\u001b[0m \u001b[0mtorch\u001b[0m\u001b[0;34m.\u001b[0m\u001b[0mstack\u001b[0m\u001b[0;34m(\u001b[0m\u001b[0mtuple\u001b[0m\u001b[0;34m(\u001b[0m\u001b[0mitem\u001b[0m \u001b[0;32mfor\u001b[0m \u001b[0mitem\u001b[0m \u001b[0;32min\u001b[0m \u001b[0mtext_embedding\u001b[0m\u001b[0;34m)\u001b[0m\u001b[0;34m)\u001b[0m\u001b[0;34m.\u001b[0m\u001b[0mto\u001b[0m\u001b[0;34m(\u001b[0m\u001b[0;34m'cuda'\u001b[0m\u001b[0;34m)\u001b[0m\u001b[0;34m\u001b[0m\u001b[0;34m\u001b[0m\u001b[0m\n\u001b[0;32m----> 4\u001b[0;31m \u001b[0mresult\u001b[0m \u001b[0;34m=\u001b[0m \u001b[0mtorch\u001b[0m\u001b[0;34m.\u001b[0m\u001b[0mround\u001b[0m\u001b[0;34m(\u001b[0m\u001b[0mmodel\u001b[0m\u001b[0;34m.\u001b[0m\u001b[0mforward\u001b[0m\u001b[0;34m(\u001b[0m\u001b[0mtext\u001b[0m\u001b[0;34m,\u001b[0m\u001b[0mimage_embedding\u001b[0m\u001b[0;34m)\u001b[0m\u001b[0;34m)\u001b[0m\u001b[0;34m.\u001b[0m\u001b[0mto\u001b[0m\u001b[0;34m(\u001b[0m\u001b[0;34m'cuda'\u001b[0m\u001b[0;34m)\u001b[0m\u001b[0;34m\u001b[0m\u001b[0;34m\u001b[0m\u001b[0m\n\u001b[0m\u001b[1;32m      5\u001b[0m \u001b[0mprint\u001b[0m\u001b[0;34m(\u001b[0m\u001b[0mtorch\u001b[0m\u001b[0;34m.\u001b[0m\u001b[0mTensor\u001b[0m\u001b[0;34m(\u001b[0m\u001b[0mtest\u001b[0m\u001b[0;34m[\u001b[0m\u001b[0;34m'humour'\u001b[0m\u001b[0;34m]\u001b[0m\u001b[0;34m)\u001b[0m\u001b[0;34m)\u001b[0m\u001b[0;34m\u001b[0m\u001b[0;34m\u001b[0m\u001b[0m\n\u001b[1;32m      6\u001b[0m \u001b[0mprint\u001b[0m\u001b[0;34m(\u001b[0m\u001b[0mresult\u001b[0m\u001b[0;34m[\u001b[0m\u001b[0;34m:\u001b[0m\u001b[0;34m,\u001b[0m \u001b[0;36m0\u001b[0m\u001b[0;34m]\u001b[0m\u001b[0;34m)\u001b[0m\u001b[0;34m\u001b[0m\u001b[0;34m\u001b[0m\u001b[0m\n",
            "\u001b[0;31mTypeError\u001b[0m: forward() missing 1 required positional argument: 'z'"
          ]
        }
      ]
    },
    {
      "cell_type": "code",
      "source": [
        "#!pip install torcheval\n",
        "from torcheval.metrics.functional import multiclass_f1_score"
      ],
      "metadata": {
        "colab": {
          "base_uri": "https://localhost:8080/"
        },
        "id": "-Dig8LEpqELw",
        "outputId": "4b20328c-00fa-4304-960b-28372ec09adc"
      },
      "execution_count": null,
      "outputs": [
        {
          "output_type": "execute_result",
          "data": {
            "text/plain": [
              "tensor(0.5900, device='cuda:0')"
            ]
          },
          "metadata": {},
          "execution_count": 22
        }
      ]
    },
    {
      "cell_type": "code",
      "source": [
        "def get_test(model):\n",
        "  image_embedding = torch.load('image/test_embedding_VGG_finetuned.pt').squeeze().to('cuda')\n",
        "  text_embedding = torch.load('text/test_text_embedding_R.pt')\n",
        "  text = torch.stack(tuple(item for item in text_embedding)).to('cuda')\n",
        "  result = torch.round(model.forward(text,image_embedding)).to('cuda')\n",
        "  print(\"Humour test:\",multiclass_f1_score(result[:,0], torch.Tensor(test['humour']).to('cuda'), num_classes=4,average='weighted'))\n",
        "  print(\"Sarcastic test:\", multiclass_f1_score(result[:,1], torch.Tensor(test['sarcastic']).to('cuda'), num_classes=4,average='weighted'))\n",
        "  print(\"Offensive test:\", multiclass_f1_score(result[:,2], torch.Tensor(test['offensive']).to('cuda'), num_classes=4,average='weighted'))\n",
        "  #print(\"Moltivational test:\",sum(torch.Tensor(test['motivational']).to('cuda')==result[:,3])/1500)\n",
        "  print(\"Overall test:\", multiclass_f1_score(result[:,3], torch.Tensor(test['overall_sentiment']).to('cuda'), num_classes=3,average='weighted'))"
      ],
      "metadata": {
        "id": "YHklxZqZ5nkX"
      },
      "execution_count": null,
      "outputs": []
    },
    {
      "cell_type": "code",
      "source": [
        "from sklearn.metrics import f1_score\n",
        "def get_test_2(model):\n",
        "  image_embedding = torch.load('image/test_embedding_VGG_finetuned.pt').squeeze().to('cuda')\n",
        "  text_embedding = torch.load('text/test_text_embed_ft')\n",
        "  clip_embedding = torch.load('clip/clip_embedding_test.pt').float()\n",
        "  text = torch.stack(tuple(item for item in text_embedding)).to('cuda')\n",
        "  result = torch.round(model.forward(text,image_embedding, clip_embedding)).cpu().detach().numpy()\n",
        "  print(\"-1: {}\".format(sum(result[:,0]==-1)))\n",
        "  print(\"0: {}\".format(sum(result[:,0]==0)))\n",
        "  print(\"1: {}\".format(sum(result[:,0]==1)))\n",
        "  print(\"2: {}\".format(sum(result[:,0]==2)))\n",
        "  print(\"3: {}\".format(sum(result[:,0]==3)))\n",
        "  print(\"4: {}\".format(sum(result[:,0]==4)))\n",
        "  print(\"5: {}\".format(sum(result[:,0]==5)))\n",
        "  #print(\"Humour test:\",f1_score( torch.Tensor(test['humour']).cpu().numpy(),result[:,0], average='weighted'))\n",
        "  # print(\"Sarcastic test:\",f1_score(torch.Tensor(test['sarcastic']).cpu().numpy(),result[:,0],  average='weighted'))\n",
        "  #print(\"Offensive test:\", f1_score( torch.Tensor(test['offensive']).cpu().numpy(), result[:,0],average='weighted'))\n",
        "  print(\"Moltivational test:\",f1_score( torch.Tensor(test['motivational']).cpu().numpy(), result[:,0],average='weighted'))\n",
        "  #print(\"Overall test:\", f1_score( torch.Tensor(test['overall_sentiment']).cpu().numpy(), result[:,0],average='weighted'))"
      ],
      "metadata": {
        "id": "4DiL_RvKbfnD"
      },
      "execution_count": null,
      "outputs": []
    },
    {
      "cell_type": "code",
      "source": [
        "get_test_2(model)"
      ],
      "metadata": {
        "colab": {
          "base_uri": "https://localhost:8080/"
        },
        "id": "KaHsi-tI5oE_",
        "outputId": "23f06943-91fa-45c5-e005-adf6f60353d8"
      },
      "execution_count": null,
      "outputs": [
        {
          "output_type": "stream",
          "name": "stdout",
          "text": [
            "-1: 0\n",
            "0: 1500\n",
            "1: 0\n",
            "2: 0\n",
            "3: 0\n",
            "4: 0\n",
            "5: 0\n",
            "Moltivational test: 0.9800447427293065\n"
          ]
        }
      ]
    },
    {
      "cell_type": "code",
      "source": [
        "(0.4587+0.1660+0.6093+0.8607)/4"
      ],
      "metadata": {
        "colab": {
          "base_uri": "https://localhost:8080/"
        },
        "id": "Z_Eoj6q1-hBK",
        "outputId": "93094556-4f6f-4d94-c093-a312e4287508"
      },
      "execution_count": null,
      "outputs": [
        {
          "output_type": "execute_result",
          "data": {
            "text/plain": [
              "0.523675"
            ]
          },
          "metadata": {},
          "execution_count": 19
        }
      ]
    },
    {
      "cell_type": "code",
      "source": [
        "one = 0\n",
        "zero = 0\n",
        "other = 0\n",
        "for _, (a,b,d) in enumerate(train_loader):\n",
        "  for c in d:\n",
        "    if c[1] == 0:\n",
        "      zero += 1\n",
        "    elif c[1] == 1:\n",
        "      one += 1\n",
        "    else:\n",
        "      other +=1\n",
        "print(zero,one,other)\n",
        "one = 0\n",
        "zero = 0\n",
        "other = 0\n",
        "for _, (a,b,d) in enumerate(dev_loader):\n",
        "  for c in d:\n",
        "    if c[1] == 0:\n",
        "      zero += 1\n",
        "    elif c[1] == 1:\n",
        "      one += 1\n",
        "    else:\n",
        "      other +=1\n",
        "print(zero,one,other)"
      ],
      "metadata": {
        "colab": {
          "base_uri": "https://localhost:8080/"
        },
        "id": "2JdD99mGkOmx",
        "outputId": "5ea3d3fe-49f9-41d7-895f-ed0d82f927fc"
      },
      "execution_count": null,
      "outputs": [
        {
          "output_type": "stream",
          "name": "stdout",
          "text": [
            "3871 1759 1370\n",
            "804 388 308\n"
          ]
        }
      ]
    }
  ],
  "metadata": {
    "accelerator": "GPU",
    "colab": {
      "provenance": [],
      "machine_shape": "hm",
      "gpuType": "T4"
    },
    "gpuClass": "standard",
    "kernelspec": {
      "display_name": "Python 3",
      "language": "python",
      "name": "python3"
    },
    "language_info": {
      "codemirror_mode": {
        "name": "ipython",
        "version": 3
      },
      "file_extension": ".py",
      "mimetype": "text/x-python",
      "name": "python",
      "nbconvert_exporter": "python",
      "pygments_lexer": "ipython3",
      "version": "3.8.9"
    },
    "vscode": {
      "interpreter": {
        "hash": "31f2aee4e71d21fbe5cf8b01ff0e069b9275f58929596ceb00d14d90e3e16cd6"
      }
    },
    "widgets": {
      "application/vnd.jupyter.widget-state+json": {
        "789f06ff8ef94d7a9f9e0692bb955b79": {
          "model_module": "@jupyter-widgets/controls",
          "model_name": "HBoxModel",
          "model_module_version": "1.5.0",
          "state": {
            "_dom_classes": [],
            "_model_module": "@jupyter-widgets/controls",
            "_model_module_version": "1.5.0",
            "_model_name": "HBoxModel",
            "_view_count": null,
            "_view_module": "@jupyter-widgets/controls",
            "_view_module_version": "1.5.0",
            "_view_name": "HBoxView",
            "box_style": "",
            "children": [
              "IPY_MODEL_592bd32316d849e29eebc22cfa47a43a",
              "IPY_MODEL_7eb0e4697f8148f68e994b299b90568d",
              "IPY_MODEL_ace8aa5e556a495399fced0bedd9e23a"
            ],
            "layout": "IPY_MODEL_5c9bdd20642e430fa7a89040bf66758a"
          }
        },
        "592bd32316d849e29eebc22cfa47a43a": {
          "model_module": "@jupyter-widgets/controls",
          "model_name": "HTMLModel",
          "model_module_version": "1.5.0",
          "state": {
            "_dom_classes": [],
            "_model_module": "@jupyter-widgets/controls",
            "_model_module_version": "1.5.0",
            "_model_name": "HTMLModel",
            "_view_count": null,
            "_view_module": "@jupyter-widgets/controls",
            "_view_module_version": "1.5.0",
            "_view_name": "HTMLView",
            "description": "",
            "description_tooltip": null,
            "layout": "IPY_MODEL_3b9a03fb69e145c28ff97c8b54f7521a",
            "placeholder": "​",
            "style": "IPY_MODEL_5d27ce543bcb43858408fabfc426b75a",
            "value": "Downloading (…)olve/main/vocab.json: 100%"
          }
        },
        "7eb0e4697f8148f68e994b299b90568d": {
          "model_module": "@jupyter-widgets/controls",
          "model_name": "FloatProgressModel",
          "model_module_version": "1.5.0",
          "state": {
            "_dom_classes": [],
            "_model_module": "@jupyter-widgets/controls",
            "_model_module_version": "1.5.0",
            "_model_name": "FloatProgressModel",
            "_view_count": null,
            "_view_module": "@jupyter-widgets/controls",
            "_view_module_version": "1.5.0",
            "_view_name": "ProgressView",
            "bar_style": "success",
            "description": "",
            "description_tooltip": null,
            "layout": "IPY_MODEL_aa12bc79cd3e44c78c3dfbf289a6fea0",
            "max": 898823,
            "min": 0,
            "orientation": "horizontal",
            "style": "IPY_MODEL_a1159841290941359ebd2fd9ef60e695",
            "value": 898823
          }
        },
        "ace8aa5e556a495399fced0bedd9e23a": {
          "model_module": "@jupyter-widgets/controls",
          "model_name": "HTMLModel",
          "model_module_version": "1.5.0",
          "state": {
            "_dom_classes": [],
            "_model_module": "@jupyter-widgets/controls",
            "_model_module_version": "1.5.0",
            "_model_name": "HTMLModel",
            "_view_count": null,
            "_view_module": "@jupyter-widgets/controls",
            "_view_module_version": "1.5.0",
            "_view_name": "HTMLView",
            "description": "",
            "description_tooltip": null,
            "layout": "IPY_MODEL_f50e27c8f6654bfeb4c8b6df7c070299",
            "placeholder": "​",
            "style": "IPY_MODEL_77afcfd79d11496a9a6befa72a4d4b83",
            "value": " 899k/899k [00:00&lt;00:00, 8.51MB/s]"
          }
        },
        "5c9bdd20642e430fa7a89040bf66758a": {
          "model_module": "@jupyter-widgets/base",
          "model_name": "LayoutModel",
          "model_module_version": "1.2.0",
          "state": {
            "_model_module": "@jupyter-widgets/base",
            "_model_module_version": "1.2.0",
            "_model_name": "LayoutModel",
            "_view_count": null,
            "_view_module": "@jupyter-widgets/base",
            "_view_module_version": "1.2.0",
            "_view_name": "LayoutView",
            "align_content": null,
            "align_items": null,
            "align_self": null,
            "border": null,
            "bottom": null,
            "display": null,
            "flex": null,
            "flex_flow": null,
            "grid_area": null,
            "grid_auto_columns": null,
            "grid_auto_flow": null,
            "grid_auto_rows": null,
            "grid_column": null,
            "grid_gap": null,
            "grid_row": null,
            "grid_template_areas": null,
            "grid_template_columns": null,
            "grid_template_rows": null,
            "height": null,
            "justify_content": null,
            "justify_items": null,
            "left": null,
            "margin": null,
            "max_height": null,
            "max_width": null,
            "min_height": null,
            "min_width": null,
            "object_fit": null,
            "object_position": null,
            "order": null,
            "overflow": null,
            "overflow_x": null,
            "overflow_y": null,
            "padding": null,
            "right": null,
            "top": null,
            "visibility": null,
            "width": null
          }
        },
        "3b9a03fb69e145c28ff97c8b54f7521a": {
          "model_module": "@jupyter-widgets/base",
          "model_name": "LayoutModel",
          "model_module_version": "1.2.0",
          "state": {
            "_model_module": "@jupyter-widgets/base",
            "_model_module_version": "1.2.0",
            "_model_name": "LayoutModel",
            "_view_count": null,
            "_view_module": "@jupyter-widgets/base",
            "_view_module_version": "1.2.0",
            "_view_name": "LayoutView",
            "align_content": null,
            "align_items": null,
            "align_self": null,
            "border": null,
            "bottom": null,
            "display": null,
            "flex": null,
            "flex_flow": null,
            "grid_area": null,
            "grid_auto_columns": null,
            "grid_auto_flow": null,
            "grid_auto_rows": null,
            "grid_column": null,
            "grid_gap": null,
            "grid_row": null,
            "grid_template_areas": null,
            "grid_template_columns": null,
            "grid_template_rows": null,
            "height": null,
            "justify_content": null,
            "justify_items": null,
            "left": null,
            "margin": null,
            "max_height": null,
            "max_width": null,
            "min_height": null,
            "min_width": null,
            "object_fit": null,
            "object_position": null,
            "order": null,
            "overflow": null,
            "overflow_x": null,
            "overflow_y": null,
            "padding": null,
            "right": null,
            "top": null,
            "visibility": null,
            "width": null
          }
        },
        "5d27ce543bcb43858408fabfc426b75a": {
          "model_module": "@jupyter-widgets/controls",
          "model_name": "DescriptionStyleModel",
          "model_module_version": "1.5.0",
          "state": {
            "_model_module": "@jupyter-widgets/controls",
            "_model_module_version": "1.5.0",
            "_model_name": "DescriptionStyleModel",
            "_view_count": null,
            "_view_module": "@jupyter-widgets/base",
            "_view_module_version": "1.2.0",
            "_view_name": "StyleView",
            "description_width": ""
          }
        },
        "aa12bc79cd3e44c78c3dfbf289a6fea0": {
          "model_module": "@jupyter-widgets/base",
          "model_name": "LayoutModel",
          "model_module_version": "1.2.0",
          "state": {
            "_model_module": "@jupyter-widgets/base",
            "_model_module_version": "1.2.0",
            "_model_name": "LayoutModel",
            "_view_count": null,
            "_view_module": "@jupyter-widgets/base",
            "_view_module_version": "1.2.0",
            "_view_name": "LayoutView",
            "align_content": null,
            "align_items": null,
            "align_self": null,
            "border": null,
            "bottom": null,
            "display": null,
            "flex": null,
            "flex_flow": null,
            "grid_area": null,
            "grid_auto_columns": null,
            "grid_auto_flow": null,
            "grid_auto_rows": null,
            "grid_column": null,
            "grid_gap": null,
            "grid_row": null,
            "grid_template_areas": null,
            "grid_template_columns": null,
            "grid_template_rows": null,
            "height": null,
            "justify_content": null,
            "justify_items": null,
            "left": null,
            "margin": null,
            "max_height": null,
            "max_width": null,
            "min_height": null,
            "min_width": null,
            "object_fit": null,
            "object_position": null,
            "order": null,
            "overflow": null,
            "overflow_x": null,
            "overflow_y": null,
            "padding": null,
            "right": null,
            "top": null,
            "visibility": null,
            "width": null
          }
        },
        "a1159841290941359ebd2fd9ef60e695": {
          "model_module": "@jupyter-widgets/controls",
          "model_name": "ProgressStyleModel",
          "model_module_version": "1.5.0",
          "state": {
            "_model_module": "@jupyter-widgets/controls",
            "_model_module_version": "1.5.0",
            "_model_name": "ProgressStyleModel",
            "_view_count": null,
            "_view_module": "@jupyter-widgets/base",
            "_view_module_version": "1.2.0",
            "_view_name": "StyleView",
            "bar_color": null,
            "description_width": ""
          }
        },
        "f50e27c8f6654bfeb4c8b6df7c070299": {
          "model_module": "@jupyter-widgets/base",
          "model_name": "LayoutModel",
          "model_module_version": "1.2.0",
          "state": {
            "_model_module": "@jupyter-widgets/base",
            "_model_module_version": "1.2.0",
            "_model_name": "LayoutModel",
            "_view_count": null,
            "_view_module": "@jupyter-widgets/base",
            "_view_module_version": "1.2.0",
            "_view_name": "LayoutView",
            "align_content": null,
            "align_items": null,
            "align_self": null,
            "border": null,
            "bottom": null,
            "display": null,
            "flex": null,
            "flex_flow": null,
            "grid_area": null,
            "grid_auto_columns": null,
            "grid_auto_flow": null,
            "grid_auto_rows": null,
            "grid_column": null,
            "grid_gap": null,
            "grid_row": null,
            "grid_template_areas": null,
            "grid_template_columns": null,
            "grid_template_rows": null,
            "height": null,
            "justify_content": null,
            "justify_items": null,
            "left": null,
            "margin": null,
            "max_height": null,
            "max_width": null,
            "min_height": null,
            "min_width": null,
            "object_fit": null,
            "object_position": null,
            "order": null,
            "overflow": null,
            "overflow_x": null,
            "overflow_y": null,
            "padding": null,
            "right": null,
            "top": null,
            "visibility": null,
            "width": null
          }
        },
        "77afcfd79d11496a9a6befa72a4d4b83": {
          "model_module": "@jupyter-widgets/controls",
          "model_name": "DescriptionStyleModel",
          "model_module_version": "1.5.0",
          "state": {
            "_model_module": "@jupyter-widgets/controls",
            "_model_module_version": "1.5.0",
            "_model_name": "DescriptionStyleModel",
            "_view_count": null,
            "_view_module": "@jupyter-widgets/base",
            "_view_module_version": "1.2.0",
            "_view_name": "StyleView",
            "description_width": ""
          }
        },
        "12b3585a14bb4160b183b6d65f24cde7": {
          "model_module": "@jupyter-widgets/controls",
          "model_name": "HBoxModel",
          "model_module_version": "1.5.0",
          "state": {
            "_dom_classes": [],
            "_model_module": "@jupyter-widgets/controls",
            "_model_module_version": "1.5.0",
            "_model_name": "HBoxModel",
            "_view_count": null,
            "_view_module": "@jupyter-widgets/controls",
            "_view_module_version": "1.5.0",
            "_view_name": "HBoxView",
            "box_style": "",
            "children": [
              "IPY_MODEL_a6950806fcf34810a640b9e55346aec7",
              "IPY_MODEL_1857b008718645138c846b3f65498cda",
              "IPY_MODEL_84a0e008808841ddb453084ace589cef"
            ],
            "layout": "IPY_MODEL_17e639b94e7a4548bc8df0b23cfaeee1"
          }
        },
        "a6950806fcf34810a640b9e55346aec7": {
          "model_module": "@jupyter-widgets/controls",
          "model_name": "HTMLModel",
          "model_module_version": "1.5.0",
          "state": {
            "_dom_classes": [],
            "_model_module": "@jupyter-widgets/controls",
            "_model_module_version": "1.5.0",
            "_model_name": "HTMLModel",
            "_view_count": null,
            "_view_module": "@jupyter-widgets/controls",
            "_view_module_version": "1.5.0",
            "_view_name": "HTMLView",
            "description": "",
            "description_tooltip": null,
            "layout": "IPY_MODEL_70a9d4a11bad40b1aa30df925ba90637",
            "placeholder": "​",
            "style": "IPY_MODEL_6745820f8dcc4c7396aeee1ce2e47f2d",
            "value": "Downloading (…)olve/main/merges.txt: 100%"
          }
        },
        "1857b008718645138c846b3f65498cda": {
          "model_module": "@jupyter-widgets/controls",
          "model_name": "FloatProgressModel",
          "model_module_version": "1.5.0",
          "state": {
            "_dom_classes": [],
            "_model_module": "@jupyter-widgets/controls",
            "_model_module_version": "1.5.0",
            "_model_name": "FloatProgressModel",
            "_view_count": null,
            "_view_module": "@jupyter-widgets/controls",
            "_view_module_version": "1.5.0",
            "_view_name": "ProgressView",
            "bar_style": "success",
            "description": "",
            "description_tooltip": null,
            "layout": "IPY_MODEL_912822bacab74734879f961c87fa028b",
            "max": 456318,
            "min": 0,
            "orientation": "horizontal",
            "style": "IPY_MODEL_8abc7753a3f44662b2405e1cbf465edd",
            "value": 456318
          }
        },
        "84a0e008808841ddb453084ace589cef": {
          "model_module": "@jupyter-widgets/controls",
          "model_name": "HTMLModel",
          "model_module_version": "1.5.0",
          "state": {
            "_dom_classes": [],
            "_model_module": "@jupyter-widgets/controls",
            "_model_module_version": "1.5.0",
            "_model_name": "HTMLModel",
            "_view_count": null,
            "_view_module": "@jupyter-widgets/controls",
            "_view_module_version": "1.5.0",
            "_view_name": "HTMLView",
            "description": "",
            "description_tooltip": null,
            "layout": "IPY_MODEL_f1db132297d94d4296926acb4ad24fa0",
            "placeholder": "​",
            "style": "IPY_MODEL_05df426db0744dbbaf14c13b9eddb0f8",
            "value": " 456k/456k [00:00&lt;00:00, 4.99MB/s]"
          }
        },
        "17e639b94e7a4548bc8df0b23cfaeee1": {
          "model_module": "@jupyter-widgets/base",
          "model_name": "LayoutModel",
          "model_module_version": "1.2.0",
          "state": {
            "_model_module": "@jupyter-widgets/base",
            "_model_module_version": "1.2.0",
            "_model_name": "LayoutModel",
            "_view_count": null,
            "_view_module": "@jupyter-widgets/base",
            "_view_module_version": "1.2.0",
            "_view_name": "LayoutView",
            "align_content": null,
            "align_items": null,
            "align_self": null,
            "border": null,
            "bottom": null,
            "display": null,
            "flex": null,
            "flex_flow": null,
            "grid_area": null,
            "grid_auto_columns": null,
            "grid_auto_flow": null,
            "grid_auto_rows": null,
            "grid_column": null,
            "grid_gap": null,
            "grid_row": null,
            "grid_template_areas": null,
            "grid_template_columns": null,
            "grid_template_rows": null,
            "height": null,
            "justify_content": null,
            "justify_items": null,
            "left": null,
            "margin": null,
            "max_height": null,
            "max_width": null,
            "min_height": null,
            "min_width": null,
            "object_fit": null,
            "object_position": null,
            "order": null,
            "overflow": null,
            "overflow_x": null,
            "overflow_y": null,
            "padding": null,
            "right": null,
            "top": null,
            "visibility": null,
            "width": null
          }
        },
        "70a9d4a11bad40b1aa30df925ba90637": {
          "model_module": "@jupyter-widgets/base",
          "model_name": "LayoutModel",
          "model_module_version": "1.2.0",
          "state": {
            "_model_module": "@jupyter-widgets/base",
            "_model_module_version": "1.2.0",
            "_model_name": "LayoutModel",
            "_view_count": null,
            "_view_module": "@jupyter-widgets/base",
            "_view_module_version": "1.2.0",
            "_view_name": "LayoutView",
            "align_content": null,
            "align_items": null,
            "align_self": null,
            "border": null,
            "bottom": null,
            "display": null,
            "flex": null,
            "flex_flow": null,
            "grid_area": null,
            "grid_auto_columns": null,
            "grid_auto_flow": null,
            "grid_auto_rows": null,
            "grid_column": null,
            "grid_gap": null,
            "grid_row": null,
            "grid_template_areas": null,
            "grid_template_columns": null,
            "grid_template_rows": null,
            "height": null,
            "justify_content": null,
            "justify_items": null,
            "left": null,
            "margin": null,
            "max_height": null,
            "max_width": null,
            "min_height": null,
            "min_width": null,
            "object_fit": null,
            "object_position": null,
            "order": null,
            "overflow": null,
            "overflow_x": null,
            "overflow_y": null,
            "padding": null,
            "right": null,
            "top": null,
            "visibility": null,
            "width": null
          }
        },
        "6745820f8dcc4c7396aeee1ce2e47f2d": {
          "model_module": "@jupyter-widgets/controls",
          "model_name": "DescriptionStyleModel",
          "model_module_version": "1.5.0",
          "state": {
            "_model_module": "@jupyter-widgets/controls",
            "_model_module_version": "1.5.0",
            "_model_name": "DescriptionStyleModel",
            "_view_count": null,
            "_view_module": "@jupyter-widgets/base",
            "_view_module_version": "1.2.0",
            "_view_name": "StyleView",
            "description_width": ""
          }
        },
        "912822bacab74734879f961c87fa028b": {
          "model_module": "@jupyter-widgets/base",
          "model_name": "LayoutModel",
          "model_module_version": "1.2.0",
          "state": {
            "_model_module": "@jupyter-widgets/base",
            "_model_module_version": "1.2.0",
            "_model_name": "LayoutModel",
            "_view_count": null,
            "_view_module": "@jupyter-widgets/base",
            "_view_module_version": "1.2.0",
            "_view_name": "LayoutView",
            "align_content": null,
            "align_items": null,
            "align_self": null,
            "border": null,
            "bottom": null,
            "display": null,
            "flex": null,
            "flex_flow": null,
            "grid_area": null,
            "grid_auto_columns": null,
            "grid_auto_flow": null,
            "grid_auto_rows": null,
            "grid_column": null,
            "grid_gap": null,
            "grid_row": null,
            "grid_template_areas": null,
            "grid_template_columns": null,
            "grid_template_rows": null,
            "height": null,
            "justify_content": null,
            "justify_items": null,
            "left": null,
            "margin": null,
            "max_height": null,
            "max_width": null,
            "min_height": null,
            "min_width": null,
            "object_fit": null,
            "object_position": null,
            "order": null,
            "overflow": null,
            "overflow_x": null,
            "overflow_y": null,
            "padding": null,
            "right": null,
            "top": null,
            "visibility": null,
            "width": null
          }
        },
        "8abc7753a3f44662b2405e1cbf465edd": {
          "model_module": "@jupyter-widgets/controls",
          "model_name": "ProgressStyleModel",
          "model_module_version": "1.5.0",
          "state": {
            "_model_module": "@jupyter-widgets/controls",
            "_model_module_version": "1.5.0",
            "_model_name": "ProgressStyleModel",
            "_view_count": null,
            "_view_module": "@jupyter-widgets/base",
            "_view_module_version": "1.2.0",
            "_view_name": "StyleView",
            "bar_color": null,
            "description_width": ""
          }
        },
        "f1db132297d94d4296926acb4ad24fa0": {
          "model_module": "@jupyter-widgets/base",
          "model_name": "LayoutModel",
          "model_module_version": "1.2.0",
          "state": {
            "_model_module": "@jupyter-widgets/base",
            "_model_module_version": "1.2.0",
            "_model_name": "LayoutModel",
            "_view_count": null,
            "_view_module": "@jupyter-widgets/base",
            "_view_module_version": "1.2.0",
            "_view_name": "LayoutView",
            "align_content": null,
            "align_items": null,
            "align_self": null,
            "border": null,
            "bottom": null,
            "display": null,
            "flex": null,
            "flex_flow": null,
            "grid_area": null,
            "grid_auto_columns": null,
            "grid_auto_flow": null,
            "grid_auto_rows": null,
            "grid_column": null,
            "grid_gap": null,
            "grid_row": null,
            "grid_template_areas": null,
            "grid_template_columns": null,
            "grid_template_rows": null,
            "height": null,
            "justify_content": null,
            "justify_items": null,
            "left": null,
            "margin": null,
            "max_height": null,
            "max_width": null,
            "min_height": null,
            "min_width": null,
            "object_fit": null,
            "object_position": null,
            "order": null,
            "overflow": null,
            "overflow_x": null,
            "overflow_y": null,
            "padding": null,
            "right": null,
            "top": null,
            "visibility": null,
            "width": null
          }
        },
        "05df426db0744dbbaf14c13b9eddb0f8": {
          "model_module": "@jupyter-widgets/controls",
          "model_name": "DescriptionStyleModel",
          "model_module_version": "1.5.0",
          "state": {
            "_model_module": "@jupyter-widgets/controls",
            "_model_module_version": "1.5.0",
            "_model_name": "DescriptionStyleModel",
            "_view_count": null,
            "_view_module": "@jupyter-widgets/base",
            "_view_module_version": "1.2.0",
            "_view_name": "StyleView",
            "description_width": ""
          }
        },
        "ee0a28346ebf4ad298db8044fa2cad6a": {
          "model_module": "@jupyter-widgets/controls",
          "model_name": "HBoxModel",
          "model_module_version": "1.5.0",
          "state": {
            "_dom_classes": [],
            "_model_module": "@jupyter-widgets/controls",
            "_model_module_version": "1.5.0",
            "_model_name": "HBoxModel",
            "_view_count": null,
            "_view_module": "@jupyter-widgets/controls",
            "_view_module_version": "1.5.0",
            "_view_name": "HBoxView",
            "box_style": "",
            "children": [
              "IPY_MODEL_477b4d8f146a423a819904c6239dd032",
              "IPY_MODEL_ec53de4c596e4071bcc484f9063394ab",
              "IPY_MODEL_7a345e0b8d934b6abec2d4e673ee2ba1"
            ],
            "layout": "IPY_MODEL_5085733ba8114b42befe774d46660460"
          }
        },
        "477b4d8f146a423a819904c6239dd032": {
          "model_module": "@jupyter-widgets/controls",
          "model_name": "HTMLModel",
          "model_module_version": "1.5.0",
          "state": {
            "_dom_classes": [],
            "_model_module": "@jupyter-widgets/controls",
            "_model_module_version": "1.5.0",
            "_model_name": "HTMLModel",
            "_view_count": null,
            "_view_module": "@jupyter-widgets/controls",
            "_view_module_version": "1.5.0",
            "_view_name": "HTMLView",
            "description": "",
            "description_tooltip": null,
            "layout": "IPY_MODEL_f525a0ceb2b240019056fb752fe94bd2",
            "placeholder": "​",
            "style": "IPY_MODEL_1c5b6494575d49cd83d1bdc2fa7a55b4",
            "value": "Downloading (…)lve/main/config.json: 100%"
          }
        },
        "ec53de4c596e4071bcc484f9063394ab": {
          "model_module": "@jupyter-widgets/controls",
          "model_name": "FloatProgressModel",
          "model_module_version": "1.5.0",
          "state": {
            "_dom_classes": [],
            "_model_module": "@jupyter-widgets/controls",
            "_model_module_version": "1.5.0",
            "_model_name": "FloatProgressModel",
            "_view_count": null,
            "_view_module": "@jupyter-widgets/controls",
            "_view_module_version": "1.5.0",
            "_view_name": "ProgressView",
            "bar_style": "success",
            "description": "",
            "description_tooltip": null,
            "layout": "IPY_MODEL_97637ed1bd9d43e3b03c96a98202777b",
            "max": 481,
            "min": 0,
            "orientation": "horizontal",
            "style": "IPY_MODEL_b935c1f27ee547c4863d71c436885c45",
            "value": 481
          }
        },
        "7a345e0b8d934b6abec2d4e673ee2ba1": {
          "model_module": "@jupyter-widgets/controls",
          "model_name": "HTMLModel",
          "model_module_version": "1.5.0",
          "state": {
            "_dom_classes": [],
            "_model_module": "@jupyter-widgets/controls",
            "_model_module_version": "1.5.0",
            "_model_name": "HTMLModel",
            "_view_count": null,
            "_view_module": "@jupyter-widgets/controls",
            "_view_module_version": "1.5.0",
            "_view_name": "HTMLView",
            "description": "",
            "description_tooltip": null,
            "layout": "IPY_MODEL_4ea959d95e2a47ea9d8a03e982e9edc7",
            "placeholder": "​",
            "style": "IPY_MODEL_afcc7749832f4b44b4133ac970fb4168",
            "value": " 481/481 [00:00&lt;00:00, 14.5kB/s]"
          }
        },
        "5085733ba8114b42befe774d46660460": {
          "model_module": "@jupyter-widgets/base",
          "model_name": "LayoutModel",
          "model_module_version": "1.2.0",
          "state": {
            "_model_module": "@jupyter-widgets/base",
            "_model_module_version": "1.2.0",
            "_model_name": "LayoutModel",
            "_view_count": null,
            "_view_module": "@jupyter-widgets/base",
            "_view_module_version": "1.2.0",
            "_view_name": "LayoutView",
            "align_content": null,
            "align_items": null,
            "align_self": null,
            "border": null,
            "bottom": null,
            "display": null,
            "flex": null,
            "flex_flow": null,
            "grid_area": null,
            "grid_auto_columns": null,
            "grid_auto_flow": null,
            "grid_auto_rows": null,
            "grid_column": null,
            "grid_gap": null,
            "grid_row": null,
            "grid_template_areas": null,
            "grid_template_columns": null,
            "grid_template_rows": null,
            "height": null,
            "justify_content": null,
            "justify_items": null,
            "left": null,
            "margin": null,
            "max_height": null,
            "max_width": null,
            "min_height": null,
            "min_width": null,
            "object_fit": null,
            "object_position": null,
            "order": null,
            "overflow": null,
            "overflow_x": null,
            "overflow_y": null,
            "padding": null,
            "right": null,
            "top": null,
            "visibility": null,
            "width": null
          }
        },
        "f525a0ceb2b240019056fb752fe94bd2": {
          "model_module": "@jupyter-widgets/base",
          "model_name": "LayoutModel",
          "model_module_version": "1.2.0",
          "state": {
            "_model_module": "@jupyter-widgets/base",
            "_model_module_version": "1.2.0",
            "_model_name": "LayoutModel",
            "_view_count": null,
            "_view_module": "@jupyter-widgets/base",
            "_view_module_version": "1.2.0",
            "_view_name": "LayoutView",
            "align_content": null,
            "align_items": null,
            "align_self": null,
            "border": null,
            "bottom": null,
            "display": null,
            "flex": null,
            "flex_flow": null,
            "grid_area": null,
            "grid_auto_columns": null,
            "grid_auto_flow": null,
            "grid_auto_rows": null,
            "grid_column": null,
            "grid_gap": null,
            "grid_row": null,
            "grid_template_areas": null,
            "grid_template_columns": null,
            "grid_template_rows": null,
            "height": null,
            "justify_content": null,
            "justify_items": null,
            "left": null,
            "margin": null,
            "max_height": null,
            "max_width": null,
            "min_height": null,
            "min_width": null,
            "object_fit": null,
            "object_position": null,
            "order": null,
            "overflow": null,
            "overflow_x": null,
            "overflow_y": null,
            "padding": null,
            "right": null,
            "top": null,
            "visibility": null,
            "width": null
          }
        },
        "1c5b6494575d49cd83d1bdc2fa7a55b4": {
          "model_module": "@jupyter-widgets/controls",
          "model_name": "DescriptionStyleModel",
          "model_module_version": "1.5.0",
          "state": {
            "_model_module": "@jupyter-widgets/controls",
            "_model_module_version": "1.5.0",
            "_model_name": "DescriptionStyleModel",
            "_view_count": null,
            "_view_module": "@jupyter-widgets/base",
            "_view_module_version": "1.2.0",
            "_view_name": "StyleView",
            "description_width": ""
          }
        },
        "97637ed1bd9d43e3b03c96a98202777b": {
          "model_module": "@jupyter-widgets/base",
          "model_name": "LayoutModel",
          "model_module_version": "1.2.0",
          "state": {
            "_model_module": "@jupyter-widgets/base",
            "_model_module_version": "1.2.0",
            "_model_name": "LayoutModel",
            "_view_count": null,
            "_view_module": "@jupyter-widgets/base",
            "_view_module_version": "1.2.0",
            "_view_name": "LayoutView",
            "align_content": null,
            "align_items": null,
            "align_self": null,
            "border": null,
            "bottom": null,
            "display": null,
            "flex": null,
            "flex_flow": null,
            "grid_area": null,
            "grid_auto_columns": null,
            "grid_auto_flow": null,
            "grid_auto_rows": null,
            "grid_column": null,
            "grid_gap": null,
            "grid_row": null,
            "grid_template_areas": null,
            "grid_template_columns": null,
            "grid_template_rows": null,
            "height": null,
            "justify_content": null,
            "justify_items": null,
            "left": null,
            "margin": null,
            "max_height": null,
            "max_width": null,
            "min_height": null,
            "min_width": null,
            "object_fit": null,
            "object_position": null,
            "order": null,
            "overflow": null,
            "overflow_x": null,
            "overflow_y": null,
            "padding": null,
            "right": null,
            "top": null,
            "visibility": null,
            "width": null
          }
        },
        "b935c1f27ee547c4863d71c436885c45": {
          "model_module": "@jupyter-widgets/controls",
          "model_name": "ProgressStyleModel",
          "model_module_version": "1.5.0",
          "state": {
            "_model_module": "@jupyter-widgets/controls",
            "_model_module_version": "1.5.0",
            "_model_name": "ProgressStyleModel",
            "_view_count": null,
            "_view_module": "@jupyter-widgets/base",
            "_view_module_version": "1.2.0",
            "_view_name": "StyleView",
            "bar_color": null,
            "description_width": ""
          }
        },
        "4ea959d95e2a47ea9d8a03e982e9edc7": {
          "model_module": "@jupyter-widgets/base",
          "model_name": "LayoutModel",
          "model_module_version": "1.2.0",
          "state": {
            "_model_module": "@jupyter-widgets/base",
            "_model_module_version": "1.2.0",
            "_model_name": "LayoutModel",
            "_view_count": null,
            "_view_module": "@jupyter-widgets/base",
            "_view_module_version": "1.2.0",
            "_view_name": "LayoutView",
            "align_content": null,
            "align_items": null,
            "align_self": null,
            "border": null,
            "bottom": null,
            "display": null,
            "flex": null,
            "flex_flow": null,
            "grid_area": null,
            "grid_auto_columns": null,
            "grid_auto_flow": null,
            "grid_auto_rows": null,
            "grid_column": null,
            "grid_gap": null,
            "grid_row": null,
            "grid_template_areas": null,
            "grid_template_columns": null,
            "grid_template_rows": null,
            "height": null,
            "justify_content": null,
            "justify_items": null,
            "left": null,
            "margin": null,
            "max_height": null,
            "max_width": null,
            "min_height": null,
            "min_width": null,
            "object_fit": null,
            "object_position": null,
            "order": null,
            "overflow": null,
            "overflow_x": null,
            "overflow_y": null,
            "padding": null,
            "right": null,
            "top": null,
            "visibility": null,
            "width": null
          }
        },
        "afcc7749832f4b44b4133ac970fb4168": {
          "model_module": "@jupyter-widgets/controls",
          "model_name": "DescriptionStyleModel",
          "model_module_version": "1.5.0",
          "state": {
            "_model_module": "@jupyter-widgets/controls",
            "_model_module_version": "1.5.0",
            "_model_name": "DescriptionStyleModel",
            "_view_count": null,
            "_view_module": "@jupyter-widgets/base",
            "_view_module_version": "1.2.0",
            "_view_name": "StyleView",
            "description_width": ""
          }
        },
        "9df886913cbe41a0aa513a7aa25e5684": {
          "model_module": "@jupyter-widgets/controls",
          "model_name": "HBoxModel",
          "model_module_version": "1.5.0",
          "state": {
            "_dom_classes": [],
            "_model_module": "@jupyter-widgets/controls",
            "_model_module_version": "1.5.0",
            "_model_name": "HBoxModel",
            "_view_count": null,
            "_view_module": "@jupyter-widgets/controls",
            "_view_module_version": "1.5.0",
            "_view_name": "HBoxView",
            "box_style": "",
            "children": [
              "IPY_MODEL_ab29d1f2b9264485b5ec584f881b8629",
              "IPY_MODEL_e98f85d083e34dd0b1244d55eebc110f",
              "IPY_MODEL_02bd1f41f48e485d8bb466286b3d63c2"
            ],
            "layout": "IPY_MODEL_d896eb2d6a414bc68caeb0bcd95ce5af"
          }
        },
        "ab29d1f2b9264485b5ec584f881b8629": {
          "model_module": "@jupyter-widgets/controls",
          "model_name": "HTMLModel",
          "model_module_version": "1.5.0",
          "state": {
            "_dom_classes": [],
            "_model_module": "@jupyter-widgets/controls",
            "_model_module_version": "1.5.0",
            "_model_name": "HTMLModel",
            "_view_count": null,
            "_view_module": "@jupyter-widgets/controls",
            "_view_module_version": "1.5.0",
            "_view_name": "HTMLView",
            "description": "",
            "description_tooltip": null,
            "layout": "IPY_MODEL_ff0389227cec4a7a8a5926905a597cf9",
            "placeholder": "​",
            "style": "IPY_MODEL_90dd9cfa65d247478649fa5795fb4432",
            "value": "Downloading pytorch_model.bin: 100%"
          }
        },
        "e98f85d083e34dd0b1244d55eebc110f": {
          "model_module": "@jupyter-widgets/controls",
          "model_name": "FloatProgressModel",
          "model_module_version": "1.5.0",
          "state": {
            "_dom_classes": [],
            "_model_module": "@jupyter-widgets/controls",
            "_model_module_version": "1.5.0",
            "_model_name": "FloatProgressModel",
            "_view_count": null,
            "_view_module": "@jupyter-widgets/controls",
            "_view_module_version": "1.5.0",
            "_view_name": "ProgressView",
            "bar_style": "success",
            "description": "",
            "description_tooltip": null,
            "layout": "IPY_MODEL_59f3875b502a4161a2a15f63b5aead1e",
            "max": 501200538,
            "min": 0,
            "orientation": "horizontal",
            "style": "IPY_MODEL_b53d15346874485989cd209fae63f537",
            "value": 501200538
          }
        },
        "02bd1f41f48e485d8bb466286b3d63c2": {
          "model_module": "@jupyter-widgets/controls",
          "model_name": "HTMLModel",
          "model_module_version": "1.5.0",
          "state": {
            "_dom_classes": [],
            "_model_module": "@jupyter-widgets/controls",
            "_model_module_version": "1.5.0",
            "_model_name": "HTMLModel",
            "_view_count": null,
            "_view_module": "@jupyter-widgets/controls",
            "_view_module_version": "1.5.0",
            "_view_name": "HTMLView",
            "description": "",
            "description_tooltip": null,
            "layout": "IPY_MODEL_cf788b840c614ffd9cf65b76a2cb1029",
            "placeholder": "​",
            "style": "IPY_MODEL_effdf1c87e0c4ac4bdd260a5603a281f",
            "value": " 501M/501M [00:04&lt;00:00, 134MB/s]"
          }
        },
        "d896eb2d6a414bc68caeb0bcd95ce5af": {
          "model_module": "@jupyter-widgets/base",
          "model_name": "LayoutModel",
          "model_module_version": "1.2.0",
          "state": {
            "_model_module": "@jupyter-widgets/base",
            "_model_module_version": "1.2.0",
            "_model_name": "LayoutModel",
            "_view_count": null,
            "_view_module": "@jupyter-widgets/base",
            "_view_module_version": "1.2.0",
            "_view_name": "LayoutView",
            "align_content": null,
            "align_items": null,
            "align_self": null,
            "border": null,
            "bottom": null,
            "display": null,
            "flex": null,
            "flex_flow": null,
            "grid_area": null,
            "grid_auto_columns": null,
            "grid_auto_flow": null,
            "grid_auto_rows": null,
            "grid_column": null,
            "grid_gap": null,
            "grid_row": null,
            "grid_template_areas": null,
            "grid_template_columns": null,
            "grid_template_rows": null,
            "height": null,
            "justify_content": null,
            "justify_items": null,
            "left": null,
            "margin": null,
            "max_height": null,
            "max_width": null,
            "min_height": null,
            "min_width": null,
            "object_fit": null,
            "object_position": null,
            "order": null,
            "overflow": null,
            "overflow_x": null,
            "overflow_y": null,
            "padding": null,
            "right": null,
            "top": null,
            "visibility": null,
            "width": null
          }
        },
        "ff0389227cec4a7a8a5926905a597cf9": {
          "model_module": "@jupyter-widgets/base",
          "model_name": "LayoutModel",
          "model_module_version": "1.2.0",
          "state": {
            "_model_module": "@jupyter-widgets/base",
            "_model_module_version": "1.2.0",
            "_model_name": "LayoutModel",
            "_view_count": null,
            "_view_module": "@jupyter-widgets/base",
            "_view_module_version": "1.2.0",
            "_view_name": "LayoutView",
            "align_content": null,
            "align_items": null,
            "align_self": null,
            "border": null,
            "bottom": null,
            "display": null,
            "flex": null,
            "flex_flow": null,
            "grid_area": null,
            "grid_auto_columns": null,
            "grid_auto_flow": null,
            "grid_auto_rows": null,
            "grid_column": null,
            "grid_gap": null,
            "grid_row": null,
            "grid_template_areas": null,
            "grid_template_columns": null,
            "grid_template_rows": null,
            "height": null,
            "justify_content": null,
            "justify_items": null,
            "left": null,
            "margin": null,
            "max_height": null,
            "max_width": null,
            "min_height": null,
            "min_width": null,
            "object_fit": null,
            "object_position": null,
            "order": null,
            "overflow": null,
            "overflow_x": null,
            "overflow_y": null,
            "padding": null,
            "right": null,
            "top": null,
            "visibility": null,
            "width": null
          }
        },
        "90dd9cfa65d247478649fa5795fb4432": {
          "model_module": "@jupyter-widgets/controls",
          "model_name": "DescriptionStyleModel",
          "model_module_version": "1.5.0",
          "state": {
            "_model_module": "@jupyter-widgets/controls",
            "_model_module_version": "1.5.0",
            "_model_name": "DescriptionStyleModel",
            "_view_count": null,
            "_view_module": "@jupyter-widgets/base",
            "_view_module_version": "1.2.0",
            "_view_name": "StyleView",
            "description_width": ""
          }
        },
        "59f3875b502a4161a2a15f63b5aead1e": {
          "model_module": "@jupyter-widgets/base",
          "model_name": "LayoutModel",
          "model_module_version": "1.2.0",
          "state": {
            "_model_module": "@jupyter-widgets/base",
            "_model_module_version": "1.2.0",
            "_model_name": "LayoutModel",
            "_view_count": null,
            "_view_module": "@jupyter-widgets/base",
            "_view_module_version": "1.2.0",
            "_view_name": "LayoutView",
            "align_content": null,
            "align_items": null,
            "align_self": null,
            "border": null,
            "bottom": null,
            "display": null,
            "flex": null,
            "flex_flow": null,
            "grid_area": null,
            "grid_auto_columns": null,
            "grid_auto_flow": null,
            "grid_auto_rows": null,
            "grid_column": null,
            "grid_gap": null,
            "grid_row": null,
            "grid_template_areas": null,
            "grid_template_columns": null,
            "grid_template_rows": null,
            "height": null,
            "justify_content": null,
            "justify_items": null,
            "left": null,
            "margin": null,
            "max_height": null,
            "max_width": null,
            "min_height": null,
            "min_width": null,
            "object_fit": null,
            "object_position": null,
            "order": null,
            "overflow": null,
            "overflow_x": null,
            "overflow_y": null,
            "padding": null,
            "right": null,
            "top": null,
            "visibility": null,
            "width": null
          }
        },
        "b53d15346874485989cd209fae63f537": {
          "model_module": "@jupyter-widgets/controls",
          "model_name": "ProgressStyleModel",
          "model_module_version": "1.5.0",
          "state": {
            "_model_module": "@jupyter-widgets/controls",
            "_model_module_version": "1.5.0",
            "_model_name": "ProgressStyleModel",
            "_view_count": null,
            "_view_module": "@jupyter-widgets/base",
            "_view_module_version": "1.2.0",
            "_view_name": "StyleView",
            "bar_color": null,
            "description_width": ""
          }
        },
        "cf788b840c614ffd9cf65b76a2cb1029": {
          "model_module": "@jupyter-widgets/base",
          "model_name": "LayoutModel",
          "model_module_version": "1.2.0",
          "state": {
            "_model_module": "@jupyter-widgets/base",
            "_model_module_version": "1.2.0",
            "_model_name": "LayoutModel",
            "_view_count": null,
            "_view_module": "@jupyter-widgets/base",
            "_view_module_version": "1.2.0",
            "_view_name": "LayoutView",
            "align_content": null,
            "align_items": null,
            "align_self": null,
            "border": null,
            "bottom": null,
            "display": null,
            "flex": null,
            "flex_flow": null,
            "grid_area": null,
            "grid_auto_columns": null,
            "grid_auto_flow": null,
            "grid_auto_rows": null,
            "grid_column": null,
            "grid_gap": null,
            "grid_row": null,
            "grid_template_areas": null,
            "grid_template_columns": null,
            "grid_template_rows": null,
            "height": null,
            "justify_content": null,
            "justify_items": null,
            "left": null,
            "margin": null,
            "max_height": null,
            "max_width": null,
            "min_height": null,
            "min_width": null,
            "object_fit": null,
            "object_position": null,
            "order": null,
            "overflow": null,
            "overflow_x": null,
            "overflow_y": null,
            "padding": null,
            "right": null,
            "top": null,
            "visibility": null,
            "width": null
          }
        },
        "effdf1c87e0c4ac4bdd260a5603a281f": {
          "model_module": "@jupyter-widgets/controls",
          "model_name": "DescriptionStyleModel",
          "model_module_version": "1.5.0",
          "state": {
            "_model_module": "@jupyter-widgets/controls",
            "_model_module_version": "1.5.0",
            "_model_name": "DescriptionStyleModel",
            "_view_count": null,
            "_view_module": "@jupyter-widgets/base",
            "_view_module_version": "1.2.0",
            "_view_name": "StyleView",
            "description_width": ""
          }
        }
      }
    }
  },
  "nbformat": 4,
  "nbformat_minor": 0
}